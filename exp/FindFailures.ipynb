{
 "cells": [
  {
   "cell_type": "code",
   "execution_count": 1,
   "metadata": {},
   "outputs": [],
   "source": [
    "import numpy as np\n",
    "import pandas as pd\n",
    "import seaborn as sns\n",
    "import matplotlib.pyplot as plt\n",
    "import matplotlib.gridspec as gridspec\n",
    "from sklearn.random_projection import GaussianRandomProjection\n",
    "from tqdm import tqdm\n",
    "import sys\n",
    "import math\n",
    "\n",
    "sys.path.append('../')\n",
    "sys.path.append('../src/')\n",
    "\n",
    "from src.utils import set_plotting_params\n",
    "from src.detection import DataCopyingDetector, ThreeSampleDetector\n",
    "from src.generative import * "
   ]
  },
  {
   "cell_type": "markdown",
   "metadata": {},
   "source": [
    "# Failure Cases"
   ]
  },
  {
   "cell_type": "markdown",
   "metadata": {},
   "source": [
    "## Meehan"
   ]
  },
  {
   "cell_type": "code",
   "execution_count": 2,
   "metadata": {},
   "outputs": [],
   "source": [
    "S = Halfmoons(noise=0.1).sample(2000)\n",
    "P = Halfmoons(noise=0.1).sample(1000)\n",
    "\n",
    "copying = Memorizer(radius=0.02, n_copying=20)\n",
    "underfit = Memorizer(radius=0.25, n_copying=len(S))\n",
    "rhos = np.round(np.linspace(0, 1, 11), 2)\n",
    "num_regions_hf = [5, 10, 20]\n",
    "n_trials = 20"
   ]
  },
  {
   "cell_type": "code",
   "execution_count": null,
   "metadata": {},
   "outputs": [],
   "source": [
    "# C_S_hf = np.zeros((len(rhos), len(num_regions_hf), n_trials))\n",
    "\n",
    "# for i, r in enumerate(tqdm(rhos)):\n",
    "#     q = Mixture(rho=r, q1=copying, q2=underfit).fit(S)\n",
    "#     for j, c in enumerate(num_regions_hf):\n",
    "#         tst = ThreeSampleDetector(num_regions=c)\n",
    "#         for t in range(n_trials):\n",
    "#             C_S_hf[i, j, t] = tst.C_T(Q=q, X_train=S, X_test=P)[0]\n",
    "\n",
    "\n",
    "# np.save('../doc/Limitations/C_S_hf.npy', C_S_hf)"
   ]
  },
  {
   "cell_type": "code",
   "execution_count": 4,
   "metadata": {},
   "outputs": [],
   "source": [
    "mnist = MNIST(root='../data.nosync/').fit()\n",
    "S = mnist.sample()\n",
    "P = mnist.sample(10000, S=\"val\")\n",
    "\n",
    "copier = Memorizer(radius=0.05, n_copying=20)\n",
    "underfit = Memorizer(radius=0.5, n_copying=len(S))\n",
    "rhos = np.round(np.linspace(0, 1, 11), 2)\n",
    "num_regions_mnist = [25, 50, 75]\n",
    "n_trials = 20"
   ]
  },
  {
   "cell_type": "code",
   "execution_count": null,
   "metadata": {},
   "outputs": [],
   "source": [
    "# C_S_mnist = np.zeros((len(rhos), len(num_regions_mnist), n_trials))\n",
    "\n",
    "# for i, r in enumerate(tqdm(rhos)):\n",
    "#     q = Mixture(rho=r, q1=copier, q2=underfit).fit(S)\n",
    "#     for j, c in enumerate(num_regions_mnist):\n",
    "#         tst = ThreeSampleDetector(num_regions=c)\n",
    "#         for t in range(n_trials):\n",
    "#             C_S_mnist[i, j, t] = tst.C_T(Q=q, X_train=S, X_test=P)[0]\n",
    "\n",
    "# np.save('../doc/Limitations/C_S_mnist.npy', C_S_mnist)"
   ]
  },
  {
   "cell_type": "code",
   "execution_count": 6,
   "metadata": {},
   "outputs": [],
   "source": [
    "# visualize q \n",
    "X = Halfmoons(noise=0.1).sample(20)\n",
    "copier = Memorizer(radius=0.05, n_copying=3)\n",
    "underfit = Memorizer(radius=0.25, n_copying=len(X))\n",
    "q = Mixture(rho=0.5, q1=copier, q2=underfit).fit(X)\n",
    "X_subset = q.q1.subset\n",
    "X_gen = q.sample(50)"
   ]
  },
  {
   "cell_type": "code",
   "execution_count": 7,
   "metadata": {},
   "outputs": [],
   "source": [
    "### plotting\n",
    "textwidth = set_plotting_params()\n",
    "line_styles = ['--', '-.', ':']\n",
    "colors = sns.color_palette('colorblind')\n",
    "markers = ['.', 'x', '^', 'h', '^', 'v', '>', '<', 'p', '*', 'h']\n",
    "markersize = [5, 4, 3, 2, 1]\n",
    "\n",
    "C_S_hf = np.load('../doc/Limitations/C_S_hf.npy')\n",
    "C_S_mnist = np.load('../doc/Limitations/C_S_mnist.npy')\n",
    "\n",
    "fig, axs = plt.subplots(1, 3, figsize=(textwidth, 2))\n",
    "axs_model = axs[0]\n",
    "\n",
    "# model\n",
    "axs_model.scatter(X_gen[:, 0], X_gen[:, 1], color=colors[1], marker='x', label='T', alpha=0.7, s=5)\n",
    "axs_model.scatter(X[:, 0], X[:, 1], color=colors[0], marker='o', label='S', s=5, alpha=0.7)\n",
    "# axs_model.scatter(X_subset[:, 0], X_subset[:, 1], color=colors[0], s=10, marker='x')\n",
    "# draw circles around copied points (radius = 0.1)\n",
    "for x in X_subset:\n",
    "    circle = plt.Circle(x, 0.15, color='black', fill=False)\n",
    "    axs_model.add_artist(circle)\n",
    "axs_model.legend()\n",
    "axs_model.set_title(\"(a) Mixed Model\")\n",
    "axs_model.set_xticks([])\n",
    "axs_model.set_yticks([])\n",
    "\n",
    "# results\n",
    "axs_results = [axs[1], axs[2]]\n",
    "for i, (C_S, ax, num_regions) in enumerate(zip([C_S_hf, C_S_mnist], axs_results, [num_regions_hf, num_regions_mnist])):\n",
    "    # for j, c in enumerate(num_regions):\n",
    "    mean = np.mean(C_S[:, 0, :], axis=1)\n",
    "    std = np.std(C_S[:, 0, :], axis=1)\n",
    "    ax.plot(rhos, mean,\n",
    "            # label=f\"{c}\", \n",
    "            linestyle=line_styles[0],\n",
    "            color=colors[3],\n",
    "            marker=markers[0],\n",
    "            markersize=markersize[0],\n",
    "    )\n",
    "    ax.fill_between(rhos, mean - std, mean + std, alpha=0.2, color=colors[3])\n",
    "\n",
    "    ax.axhline(-3, color='black', linestyle='-')\n",
    "    ax.set_xlabel(\"$\\\\rho$\")\n",
    "    ax.set_ylabel(\"$C_S$\")\n",
    "    ax.set_title(\"(b) Halfmoons (2D)\" if i == 0 else \"(c) MNIST (64D)\")\n",
    "    # make x and y ticks at 0, 0.2, ..., 1\n",
    "    ax.set_xticks(np.linspace(0, 1, 6))\n",
    "\n",
    "# axs[1].legend(fontsize='6', title='Number of regions', title_fontsize='6', loc='upper right')\n",
    "# axs[2].legend(fontsize='6', title='Number of regions', title_fontsize='6', loc='lower left')\n",
    "\n",
    "plt.tight_layout()\n",
    "plt.savefig('../doc/Limitations/C_S_2.png', dpi=300)\n",
    "plt.close()"
   ]
  },
  {
   "cell_type": "markdown",
   "metadata": {},
   "source": [
    "## Bhattacharjee"
   ]
  },
  {
   "cell_type": "markdown",
   "metadata": {},
   "source": [
    "### 1 Example"
   ]
  },
  {
   "cell_type": "code",
   "execution_count": 14,
   "metadata": {},
   "outputs": [],
   "source": [
    "lambda_value = 2.5  # Set the value of lambda\n",
    "x1 = np.linspace(0, 1, 1000)  # Range for Uniform(0, 1)\n",
    "x2 = np.linspace(0, 1/lambda_value, 1000)  # Range for Uniform(0, 1/lambda)\n",
    "\n",
    "textwidth = set_plotting_params()\n",
    "colors = sns.color_palette('colorblind')\n",
    "plt.figure(figsize=(0.7*textwidth, 2))\n",
    "\n",
    "plt.fill_between(x1, 1, alpha=0.5, label=r'Uniform(0, 1)', color=colors[0])\n",
    "plt.fill_between(x2, lambda_value, alpha=0.5, label=r'Uniform(0, $\\frac{1}{\\lambda}$)', color=colors[1])\n",
    "\n",
    "plt.xticks([0, 1/lambda_value, 1], [r'0', r'$\\frac{1}{\\lambda}$', r'1'])\n",
    "plt.yticks([0, 1, lambda_value], [r'0', r'1', r'$\\lambda$'])\n",
    "\n",
    "plt.xlabel('$x$')\n",
    "plt.ylabel('$p(x)$')\n",
    "plt.legend()\n",
    "\n",
    "plt.grid(True)\n",
    "plt.tight_layout(pad=0.5)\n",
    "plt.savefig('../doc/Limitations/underfitted_uniform.png', dpi=300)\n",
    "plt.close()"
   ]
  },
  {
   "cell_type": "markdown",
   "metadata": {},
   "source": [
    "### 2 Example"
   ]
  },
  {
   "cell_type": "code",
   "execution_count": 25,
   "metadata": {},
   "outputs": [],
   "source": [
    "S = np.random.uniform(0, 1, (10, 2))\n",
    "q = SphereSurfaceCopier(radius=0.05).fit(S)\n",
    "T = q.sample(100)"
   ]
  },
  {
   "cell_type": "markdown",
   "metadata": {},
   "source": [
    "Radius depends on $n$, $\\lambda$, and $d$."
   ]
  },
  {
   "cell_type": "code",
   "execution_count": 20,
   "metadata": {},
   "outputs": [
    {
     "name": "stdout",
     "output_type": "stream",
     "text": [
      "[0.1 0.2 0.3 0.4 0.5 0.6 0.7 0.8 0.9 1. ]\n"
     ]
    }
   ],
   "source": [
    "n = 4000\n",
    "lmbdas = [5, 10, 20]\n",
    "dims_plot = np.arange(1, 31, 1)\n",
    "rhos = np.round(np.linspace(0.1, 1, 10), 2)\n",
    "print(rhos)\n",
    "r_star = np.zeros((len(dims_plot), len(lmbdas), len(rhos)))\n",
    "\n",
    "for l, r in enumerate(rhos):\n",
    "    for j, lmbda in enumerate(lmbdas):\n",
    "        for i, d in enumerate(dims_plot):\n",
    "            r_star[i, j, l] = (math.gamma(d/2 + 1) / (np.pi ** (d/2) * lmbda * 20 * r)) ** (1/d)"
   ]
  },
  {
   "cell_type": "code",
   "execution_count": 25,
   "metadata": {},
   "outputs": [
    {
     "name": "stdout",
     "output_type": "stream",
     "text": [
      "radius rho=0.4, lambda=20, dim=1: 0.10607844179470553\n"
     ]
    },
    {
     "name": "stderr",
     "output_type": "stream",
     "text": [
      "100%|██████████| 5/5 [06:09<00:00, 73.90s/it]\n"
     ]
    }
   ],
   "source": [
    "n_r = 50\n",
    "dims = np.arange(1, 6, 1)\n",
    "crs = np.zeros((len(dims), n_r))\n",
    "print(f\"radius rho=0.4, lambda=20, dim=1:\" , r_star[2, 2, 4])\n",
    "radii = np.logspace(-5, 0, n_r)\n",
    "\n",
    "for i, d in enumerate(tqdm(dims)):\n",
    "    X = np.random.uniform(0, 1, (n, d))\n",
    "    for j, r in enumerate(radii):\n",
    "        q = Mixture(rho=0.4, q1=Memorizer(radius=r), q2=Memorizer(radius=0.5, n_copying=len(X))).fit(X)\n",
    "        det = DataCopyingDetector(lmbda=20)\n",
    "        crs[i, j] = det.estimate_cr(X, q, m=int(1e6))\n",
    "    "
   ]
  },
  {
   "cell_type": "code",
   "execution_count": 24,
   "metadata": {},
   "outputs": [
    {
     "data": {
      "image/png": "[encoded data removed]",
      "text/plain": [
       "<Figure size 551.181x200 with 5 Axes>"
      ]
     },
     "metadata": {},
     "output_type": "display_data"
    }
   ],
   "source": [
    "# plot\n",
    "fig, axs = plt.subplots(1, 5, figsize=(textwidth, 2))\n",
    "\n",
    "for i, ax in enumerate(axs):\n",
    "    ax.plot(radii, crs[i, :], label=f\"$d = {dims[i]}$\")\n",
    "    # plot theoretical r_star as vertical line\n",
    "    ax.axvline(r_star[i, 2, 4], color='black', linestyle='--')\n",
    "    ax.set_xscale('log')\n",
    "\n",
    "    ax.set_xlabel(\"$r$\")\n",
    "    ax.set_ylabel(\"$cr_q$\")\n",
    "    ax.set_title(f\"$d = {dims[i]}$\")\n",
    "\n",
    "plt.tight_layout()"
   ]
  },
  {
   "cell_type": "code",
   "execution_count": 19,
   "metadata": {},
   "outputs": [
    {
     "name": "stderr",
     "output_type": "stream",
     "text": [
      "100%|██████████| 5/5 [01:26<00:00, 17.21s/it]\n"
     ]
    }
   ],
   "source": [
    "n_r = 50\n",
    "dims = np.arange(1, 6, 1)\n",
    "crs = np.zeros((len(dims), n_r))\n",
    "powers = [-6, -4, -3, -2, -2]\n",
    "rs = np.array([np.logspace(p, p+2, n_r) for p in powers])\n",
    "\n",
    "for i, d in enumerate(tqdm(dims)):\n",
    "    X = np.random.uniform(0, 1, (n, d))\n",
    "    for j, radius in enumerate(rs[i]):\n",
    "        q = SphereSurfaceCopier(radius=radius).fit(X)\n",
    "        det = DataCopyingDetector(lmbda=lmbda)\n",
    "        crs[i, j] = det.estimate_cr(X, q, m=int(1e5))"
   ]
  },
  {
   "cell_type": "code",
   "execution_count": 31,
   "metadata": {},
   "outputs": [],
   "source": [
    "textwidth = set_plotting_params()\n",
    "\n",
    "fig = plt.figure(figsize=(textwidth, 4))\n",
    "\n",
    "gs = gridspec.GridSpec(2, 10, height_ratios=[3, 1])\n",
    "\n",
    "ax1 = fig.add_subplot(gs[0, :5])  \n",
    "ax2 = fig.add_subplot(gs[0, 5:])\n",
    "ax3 = fig.add_subplot(gs[1, 0:2]) \n",
    "ax4 = fig.add_subplot(gs[1, 2:4], sharey=ax3)  # Share y-axis with ax3\n",
    "ax5 = fig.add_subplot(gs[1, 4:6], sharey=ax3)  # Share y-axis with ax3\n",
    "ax6 = fig.add_subplot(gs[1, 6:8], sharey=ax3)  # Share y-axis with ax3\n",
    "ax7 = fig.add_subplot(gs[1, 8:10], sharey=ax3) # Share y-axis with ax3\n",
    "\n",
    "# Turn off y-axis labels but keep ticks visible for ax4 to ax7\n",
    "for ax in [ax4, ax5, ax6, ax7]:\n",
    "    plt.setp(ax.get_yticklabels(), visible=False)\n",
    "\n",
    "# ax1: show model\n",
    "ax1.scatter(S[:, 0], S[:, 1], s=10, alpha=0.7, label='S', marker='o')\n",
    "ax1.scatter(T[:, 0], T[:, 1], s=10, alpha=0.7, label='T', marker='x')\n",
    "ax1.set_xticks([])\n",
    "ax1.set_yticks([])\n",
    "ax1.legend(loc='lower right')\n",
    "ax1.title.set_text('(a) SphereSurfaceCopier')\n",
    "\n",
    "# ax2: theoretical radius\n",
    "ax2.plot(dims_plot, r_star[:, 0], 's--', label=f'$\\\\lambda n ={5*n}$', color='lightgrey')\n",
    "ax2.plot(dims_plot, r_star[:, 1], '^--', label=f'$\\\\lambda n ={10*n}$', color='grey')\n",
    "ax2.plot(dims_plot, r_star[:, 2], '.--', label=f'$\\\\lambda n ={20*n}$', color='black')\n",
    "ax2.set_xlabel('d')\n",
    "ax2.set_ylabel('$r$')\n",
    "ax2.set_yscale('log')\n",
    "ax2.set_xticks([1, 5, 10, 15, 20, 25, 30])\n",
    "ax2.legend(loc='lower right')\n",
    "ax2.title.set_text('(b) $r = (\\\\frac{\\\\Gamma(d/2 + 1)}{\\\\pi^{d/2} \\\\lambda n})^{1/d}$')\n",
    "\n",
    "# ax3-7: show CR with theoretical r_star\n",
    "for i, d in enumerate(dims):\n",
    "    ax = eval(f'ax{i+3}')\n",
    "    ax.plot(rs[i], crs[i])\n",
    "    ax.set_xscale('log')\n",
    "    ax.axvline(x=r_star[i, 2], color='black', linestyle='--')\n",
    "    ax.title.set_text(f'({chr(99+i)}) d={d}')\n",
    "    ax.set_xlabel('r\\'')\n",
    "\n",
    "ax3.set_ylabel('$cr_q$')\n",
    "\n",
    "\n",
    "plt.tight_layout(pad=0.3)\n",
    "plt.savefig('../doc/Limitations/theory_radius.png', dpi=300)\n",
    "plt.close()"
   ]
  },
  {
   "cell_type": "code",
   "execution_count": 10,
   "metadata": {},
   "outputs": [],
   "source": [
    "### TODO: Do this somewhere else... \n",
    "\n",
    "# dim = 10 \n",
    "# d_proj = [1, 2, 3, 4]\n",
    "# k = 5\n",
    "# m = int(1e5)\n",
    "# X = np.random.uniform(0, 1, (n, dim))\n",
    "\n",
    "# crs = np.zeros((len(d_proj), n_r))\n",
    "# rs = np.array([np.linspace(0, r_star[i]*3, n_r) for i in range(len(d_proj))])\n",
    "\n",
    "# for i, d in enumerate(tqdm(d_proj)):\n",
    "#     for j, radius in enumerate(rs[i]):\n",
    "#         q = SphereSurfaceCopier(radius=radius).fit(X)\n",
    "#         X1_gen = q.sample(m)\n",
    "#         X2_gen = q.sample(m)\n",
    "#         det = DataCopyingDetector(lmbda=lmbda)\n",
    "#         results = np.zeros((m, k)).astype(bool)\n",
    "#         for l in range(k):\n",
    "#             rp = GaussianRandomProjection(n_components=d).fit(X)\n",
    "#             X_rp = rp.transform(X)\n",
    "#             X1_gen_rp = rp.transform(X1_gen)\n",
    "#             X2_gen_rp = rp.transform(X2_gen)\n",
    "#             idx = det.get_copying_indices(X_rp, X1_gen_rp, X2_gen_rp)\n",
    "#             results[idx, l] = True\n",
    "#         crs[i, j] = (results.mean(axis=1) > 0.5).mean()\n",
    "        \n",
    "# fig, axs = plt.subplots(1, 4, figsize=(20, 5))\n",
    "\n",
    "# for i, d in enumerate(d_proj):\n",
    "#     ax = axs[i]\n",
    "#     ax.plot(rs[i], crs[i])\n",
    "#     ax.axvline(x=r_star[d-1], color='r', linestyle='--')\n",
    "#     ax.set_title(f\"d_proj={d}\")\n",
    "#     ax.set_xlabel('r')\n",
    "#     ax.set_ylabel('CR')"
   ]
  }
 ],
 "metadata": {
  "kernelspec": {
   "display_name": "masterthesis",
   "language": "python",
   "name": "python3"
  },
  "language_info": {
   "codemirror_mode": {
    "name": "ipython",
    "version": 3
   },
   "file_extension": ".py",
   "mimetype": "text/x-python",
   "name": "python",
   "nbconvert_exporter": "python",
   "pygments_lexer": "ipython3",
   "version": "3.12.3"
  }
 },
 "nbformat": 4,
 "nbformat_minor": 2
}
