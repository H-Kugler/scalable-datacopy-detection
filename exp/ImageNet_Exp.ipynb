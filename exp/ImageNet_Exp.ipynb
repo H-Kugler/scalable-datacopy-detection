{
 "cells": [
  {
   "cell_type": "code",
   "execution_count": 1,
   "metadata": {},
   "outputs": [],
   "source": [
    "import numpy as np\n",
    "import pandas as pd\n",
    "import matplotlib.pyplot as plt\n",
    "import seaborn as sns\n",
    "from sklearn.random_projection import GaussianRandomProjection\n",
    "from sklearn.decomposition import PCA\n",
    "from sklearn.manifold import TSNE\n",
    "from tqdm import tqdm\n",
    "import sys\n",
    "\n",
    "sys.path.append('../')\n",
    "sys.path.append('../src/')\n",
    "from src.generative import *\n",
    "from src.detection import DataCopyingDetector, ThreeSampleDetector\n",
    "from src.autoencoding import InceptionV3\n",
    "from src.utils import set_plotting_params"
   ]
  },
  {
   "cell_type": "code",
   "execution_count": 2,
   "metadata": {},
   "outputs": [
    {
     "name": "stdout",
     "output_type": "stream",
     "text": [
      "Shape of data: (50000, 2048)\n",
      "Shape of PCA data: (50000, 64)\n"
     ]
    }
   ],
   "source": [
    "# load data\n",
    "emb_data = np.load(\"../data.nosync/imagenet_val_emb_data.npy\")\n",
    "print(f\"Shape of data: {emb_data.shape}\")\n",
    "\n",
    "# perform PCA\n",
    "pca = PCA(n_components=64)\n",
    "pca.fit(emb_data)\n",
    "pca_emb_data = pca.transform(emb_data)\n",
    "print(f\"Shape of PCA data: {pca_emb_data.shape}\")"
   ]
  },
  {
   "cell_type": "code",
   "execution_count": 3,
   "metadata": {},
   "outputs": [],
   "source": [
    "# q = rho * q_copying + (1 - rho) * q_underfit\n",
    "copier = Memorizer(radius=0.02, n_copying=20)\n",
    "underfitter = Memorizer(radius=0.25, n_copying=len(pca_emb_data)) \n",
    "\n",
    "m = len(pca_emb_data) # number of samples to generate\n",
    "k = 10 # number of random projections\n",
    "lambdas = [5, 10, 20] \n",
    "d_proj = [1, 2, 3] # number of dimensions in the random projection\n",
    "rhos = np.round(np.linspace(0, 1, 11), 2) # copying rate in the mixture model"
   ]
  },
  {
   "cell_type": "code",
   "execution_count": 4,
   "metadata": {},
   "outputs": [],
   "source": [
    "# for lam in lambdas: \n",
    "#     results = np.zeros((m, k, len(d_proj), len(rhos))).astype(bool)\n",
    "\n",
    "#     for i, r in enumerate(tqdm(rhos)):\n",
    "#         q = Mixture(rho=r, q1=copier, q2=underfitter).fit(pca_emb_data)\n",
    "#         X1_gen = q.sample(m)\n",
    "#         X2_gen = q.sample(m)\n",
    "#         for j, d in enumerate(d_proj):\n",
    "#             for l in range(k):\n",
    "#                 rp = GaussianRandomProjection(n_components=d).fit(pca_emb_data)\n",
    "#                 dcd = DataCopyingDetector(lmbda=lam)\n",
    "#                 idx = dcd.get_copying_indices(rp.transform(pca_emb_data), rp.transform(X1_gen), rp.transform(X2_gen))\n",
    "#                 results[idx, l, j, i] = True\n",
    "\n",
    "#     # save results\n",
    "#     np.save(f'../doc/ImageNet/mixed_model_results_lambda_{lam}.npy', results)"
   ]
  },
  {
   "cell_type": "code",
   "execution_count": 5,
   "metadata": {},
   "outputs": [],
   "source": [
    "textwidth = set_plotting_params()\n",
    "line_styles = ['--', '-.', ':']\n",
    "colors = sns.color_palette('colorblind')\n",
    "markers = ['x', '^', 'h', '^', 'v', '>', '<', 'p', '*', 'h']\n",
    "markersize = [5, 4, 3, 2, 1]\n",
    "\n",
    "fig, axs = plt.subplots(1, 3, figsize=(textwidth, 1.5), sharey=True)\n",
    "\n",
    "for i, lam in enumerate(lambdas):\n",
    "    results = np.load(f'../doc/ImageNet/mixed_model_results_lambda_{lam}.npy')\n",
    "    maj_votes = (results.mean(axis=1) > 0.5).mean(axis=0)\n",
    "    # plot true copying rate\n",
    "    axs[i].plot(rhos, rhos, label='True cr$_q$', linestyle='-', color='black')\n",
    "    for j, d in enumerate(d_proj):\n",
    "        axs[i].plot(rhos, maj_votes[j],\n",
    "                    label='$d_{\\\\mathrm{proj}}=$' + str(d),\n",
    "                    linestyle=line_styles[j],\n",
    "                    color=colors[j],\n",
    "                    marker=markers[j],\n",
    "                    markersize=markersize[j],\n",
    "                    alpha=0.75,\n",
    "                )\n",
    "        axs[i].set_xlabel('$\\\\rho$')\n",
    "        axs[i].set_title(f'({chr(97 + i)})' + f' $\\\\lambda={lam}$', loc='center')\n",
    "\n",
    "    # make x and y ticks at 0, 0.2, ..., 1\n",
    "    axs[i].set_xticks(np.linspace(0, 1, 6))\n",
    "    axs[i].set_yticks(np.linspace(0, 1, 6))\n",
    "\n",
    "\n",
    "axs[0].set_ylabel('cr$_q$')\n",
    "plt.legend(loc='upper left', bbox_to_anchor=(1, 1), fontsize=6)\n",
    "plt.tight_layout(pad=0.3)\n",
    "plt.savefig('../doc/ImageNet/mixed_model_results.png', dpi=300)\n",
    "plt.close()"
   ]
  }
 ],
 "metadata": {
  "kernelspec": {
   "display_name": "masterthesis",
   "language": "python",
   "name": "python3"
  },
  "language_info": {
   "codemirror_mode": {
    "name": "ipython",
    "version": 3
   },
   "file_extension": ".py",
   "mimetype": "text/x-python",
   "name": "python",
   "nbconvert_exporter": "python",
   "pygments_lexer": "ipython3",
   "version": "3.12.3"
  }
 },
 "nbformat": 4,
 "nbformat_minor": 2
}
