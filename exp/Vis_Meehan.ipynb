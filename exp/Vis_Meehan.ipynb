{
 "cells": [
  {
   "cell_type": "code",
   "execution_count": 34,
   "metadata": {},
   "outputs": [],
   "source": [
    "import numpy as np\n",
    "import matplotlib.pyplot as plt\n",
    "import seaborn as sns\n",
    "from sklearn.neighbors import NearestNeighbors\n",
    "import sys\n",
    "sys.path.append('../')\n",
    "sys.path.append('../src/')\n",
    "\n",
    "from src.utils import set_plotting_params\n",
    "from src.generative import Halfmoons, Memorizer"
   ]
  },
  {
   "cell_type": "code",
   "execution_count": 37,
   "metadata": {},
   "outputs": [],
   "source": [
    "p = Halfmoons(noise=0.1)\n",
    "\n",
    "n_train = 2000\n",
    "n_test = 1000\n",
    "\n",
    "X = p.sample(n_train)\n",
    "X_test = p.sample(n_test)\n",
    "q = Memorizer(radius=0.03, n_copying=1000).fit(X)\n",
    "X_gen = q.sample(n_test)\n",
    "\n",
    "X_NN = NearestNeighbors(n_neighbors=1).fit(X)\n",
    "LXgen, _ = X_NN.kneighbors(X=X_gen, n_neighbors=1)\n",
    "LXtest, _ = X_NN.kneighbors(X=X_test, n_neighbors=1)\n",
    "\n",
    "LXgen = LXgen.flatten()\n",
    "LXtest = LXtest.flatten()"
   ]
  },
  {
   "cell_type": "code",
   "execution_count": 42,
   "metadata": {},
   "outputs": [],
   "source": [
    "textwidth = set_plotting_params()\n",
    "colors = sns.color_palette('colorblind')\n",
    "markers = ['o', 'x', 's', '^', 'v', '<', '>', 'd', 'p', 'P']\n",
    "\n",
    "n_display = 50\n",
    "X = p.sample(n_display)\n",
    "q = Memorizer(radius=0.03, n_copying=int(n_display)).fit(X)\n",
    "X_gen = q.sample(n_display)\n",
    "X_test = p.sample(n_display)\n",
    "\n",
    "fig, axs = plt.subplots(1, 2, figsize=(textwidth, 0.5*textwidth))\n",
    "axs[0].scatter(*X.T, s=10, label='Train', color=colors[0], marker=markers[0], alpha=0.7)\n",
    "axs[0].scatter(*X_gen.T, s=10, label='Generated', color=colors[1], marker=markers[1], alpha=0.7)\n",
    "axs[0].scatter(*X_test.T, s=10, label='Validation', color=colors[2], marker=markers[2], alpha=0.7)\n",
    "axs[0].legend()\n",
    "axs[0].set_xticks([])\n",
    "axs[0].set_yticks([])\n",
    "axs[0].set_title('(a)')\n",
    "\n",
    "axs[1].hist(LXtest, bins=50, alpha=0.5, color=colors[2], label='Validation', density=True)\n",
    "axs[1].hist(LXgen, bins=15, alpha=0.5, color=colors[1], label='Generated', density=True)\n",
    "axs[1].legend()\n",
    "axs[1].set_xlabel('Distance to nearest neighbor in the training set')\n",
    "axs[1].set_ylabel('Density')\n",
    "axs[1].set_title('(b)')\n",
    "axs[1].set_xlim([0, 0.15])\n",
    "axs[1].set_xticks([0, 0.05, 0.1, 0.15])\n",
    "\n",
    "plt.tight_layout()\n",
    "plt.savefig('../doc/vis_meehan.png', dpi=300)\n",
    "plt.close()"
   ]
  }
 ],
 "metadata": {
  "kernelspec": {
   "display_name": "masterthesis",
   "language": "python",
   "name": "python3"
  },
  "language_info": {
   "codemirror_mode": {
    "name": "ipython",
    "version": 3
   },
   "file_extension": ".py",
   "mimetype": "text/x-python",
   "name": "python",
   "nbconvert_exporter": "python",
   "pygments_lexer": "ipython3",
   "version": "3.12.3"
  }
 },
 "nbformat": 4,
 "nbformat_minor": 2
}
