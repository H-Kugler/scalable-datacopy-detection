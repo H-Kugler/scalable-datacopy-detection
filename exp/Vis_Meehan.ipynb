{
 "cells": [
  {
   "cell_type": "code",
   "execution_count": 4,
   "metadata": {},
   "outputs": [],
   "source": [
    "import numpy as np\n",
    "import matplotlib.pyplot as plt\n",
    "import seaborn as sns\n",
    "import sys\n",
    "sys.path.append('../')\n",
    "sys.path.append('../src/')\n",
    "\n",
    "from src.utils import set_plotting_params\n",
    "from src.generative import Halfmoons, Memorizer"
   ]
  },
  {
   "cell_type": "code",
   "execution_count": 5,
   "metadata": {},
   "outputs": [],
   "source": [
    "p = Halfmoons(noise=0.1)\n",
    "X = p.sample(50)\n",
    "X_test = p.sample(50)\n",
    "q = Memorizer(radius=0.3, n_copying=len(X)).fit(X)\n",
    "X_gen = q.sample(50)"
   ]
  },
  {
   "cell_type": "code",
   "execution_count": 7,
   "metadata": {},
   "outputs": [],
   "source": [
    "textwidth = set_plotting_params()\n",
    "colors = sns.color_palette('colorblind')\n",
    "markers = ['o', 'x', 's', '^', 'v', '<', '>', 'd', 'p', 'P']\n",
    "\n",
    "fig, ax = plt.subplots(1, 1, figsize=(0.5*textwidth, 0.4*textwidth))\n",
    "ax.scatter(*X.T, s=10, label='S', color=colors[0], marker=markers[0], alpha=0.7)\n",
    "ax.scatter(*X_gen.T, s=10, label='T', color=colors[1], marker=markers[1], alpha=0.7)\n",
    "ax.scatter(*X_test.T, s=10, label='P', color=colors[2], marker=markers[2], alpha=0.7)\n",
    "ax.legend()\n",
    "ax.set_xticks([])\n",
    "ax.set_yticks([])\n",
    "\n",
    "plt.tight_layout()\n",
    "plt.savefig('../doc/vis_meehan.png', dpi=300)\n",
    "plt.close()"
   ]
  },
  {
   "cell_type": "code",
   "execution_count": null,
   "metadata": {},
   "outputs": [],
   "source": []
  }
 ],
 "metadata": {
  "kernelspec": {
   "display_name": "masterthesis",
   "language": "python",
   "name": "python3"
  },
  "language_info": {
   "codemirror_mode": {
    "name": "ipython",
    "version": 3
   },
   "file_extension": ".py",
   "mimetype": "text/x-python",
   "name": "python",
   "nbconvert_exporter": "python",
   "pygments_lexer": "ipython3",
   "version": "3.12.3"
  }
 },
 "nbformat": 4,
 "nbformat_minor": 2
}
