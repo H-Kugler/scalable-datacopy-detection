{
 "cells": [
  {
   "cell_type": "code",
   "execution_count": 1,
   "metadata": {},
   "outputs": [],
   "source": [
    "import numpy as np\n",
    "import pandas as pd\n",
    "import matplotlib.pyplot as plt\n",
    "from matplotlib import rc\n",
    "import seaborn as sns\n",
    "import sys\n",
    "from sklearn.random_projection import GaussianRandomProjection\n",
    "from tqdm import tqdm\n",
    "\n",
    "sys.path.append('../')\n",
    "sys.path.append('../src/')\n",
    "from src.generative import Sphere, Memorizer, Mixture, MultivariateGaussian\n",
    "from src.detection import DataCopyingDetector"
   ]
  },
  {
   "cell_type": "code",
   "execution_count": 2,
   "metadata": {},
   "outputs": [],
   "source": [
    "# Set LaTeX for text rendering and configure Palatino fonts\n",
    "rc('text', usetex=True)  # Enable LaTeX rendering\n",
    "rc('font', family='serif')  # Use serif fonts\n",
    "rc('font', serif='Palatino')  # Set Palatino as the serif font\n",
    "\n",
    "# Add dsfont package to the LaTeX preamble for double-struck symbols\n",
    "plt.rcParams['text.latex.preamble'] = r'\\usepackage{dsfont}'\n",
    "\n",
    "# Set plotting style and font sizes\n",
    "plt.rcParams.update({\n",
    "    'font.size': 10,          # Base font size\n",
    "    'axes.titlesize': 9,     # Title size\n",
    "    'axes.labelsize': 8,     # Axis labels size\n",
    "    'xtick.labelsize': 7,    # X-axis tick labels size\n",
    "    'ytick.labelsize': 7     # Y-axis tick labels size\n",
    "})\n",
    "\n",
    "# Define line styles, colors, markers\n",
    "line_styles = ['-', '--', ':']\n",
    "colors = sns.color_palette('colorblind')\n",
    "markers = ['x', '^', 'h', '^', 'v', '>', '<', 'p', '*', 'h']\n",
    "markersize = [5, 4, 3, 2, 1]\n",
    "\n",
    "# Calculate textwidth in inches for plot sizing\n",
    "textwidth_in_inches = 398.33864 / 72.27\n"
   ]
  },
  {
   "cell_type": "markdown",
   "metadata": {},
   "source": [
    "# Sphere"
   ]
  },
  {
   "cell_type": "code",
   "execution_count": 3,
   "metadata": {},
   "outputs": [
    {
     "data": {
      "image/png": "[encoded data removed]",
      "text/plain": [
       "<Figure size 640x480 with 1 Axes>"
      ]
     },
     "metadata": {},
     "output_type": "display_data"
    }
   ],
   "source": [
    "# Visualization in two dimensions\n",
    "p = Sphere(d=2)\n",
    "X = p.sample(500)\n",
    "\n",
    "plt.scatter(X[:, 0], X[:, 1])\n",
    "plt.show()"
   ]
  },
  {
   "cell_type": "code",
   "execution_count": null,
   "metadata": {},
   "outputs": [],
   "source": [
    "# small d seem not to be working\n",
    "for d in [2, 4, 5, 10, 20, 50]:\n",
    "    p = Sphere(d=d)\n",
    "    X = p.sample(20000)\n",
    "    det = DataCopyingDetector()\n",
    "    print(f\"Estimated data copying rate for d={d}: {det.estimate_cr(X, p, m=20000)}\")"
   ]
  },
  {
   "cell_type": "markdown",
   "metadata": {},
   "source": [
    "__Analysis:__ \n",
    "\n",
    "- Copying Rate for small dimensions, i.e. $\\mathcal{R}^{d}$ with $d \\leq 5$ is not zero which is an unwanted behaviour. Reason: Intrinsic dimension is $d-1$.\n",
    "- Same goes for $\\mathcal{R}^{d}$ with $d \\geq 20)$. $\\gamma$ is too large resulting to classification of generated points of the true distribution as data copies. So there would be the need to adjust it."
   ]
  },
  {
   "cell_type": "code",
   "execution_count": null,
   "metadata": {},
   "outputs": [],
   "source": [
    "# check regularity for different d\n",
    "fig, axs = plt.subplots(3, 3, figsize=(15, 15))\n",
    "for i, d in enumerate([2, 3, 4, 5, 6, 7, 8, 9, 10]):\n",
    "    p = Sphere(d=d) \n",
    "    X = p.sample(2000)\n",
    "    radii = np.logspace(-2, 0, 100)\n",
    "    counts = np.zeros((len(radii), len(X)))\n",
    "    for k, x in enumerate(X):\n",
    "        for j, r in enumerate(radii):\n",
    "            counts[j, k] = np.sum(np.linalg.norm(X - x, axis=1) < r)\n",
    "\n",
    "    axs[i // 3, i % 3].plot(radii, np.mean(counts, axis=1))\n",
    "    axs[i // 3, i % 3].set_title(f\"d={d}\")\n",
    "    axs[i // 3, i % 3].fill_between(radii, np.mean(counts, axis=1) - np.std(counts, axis=1), np.mean(counts, axis=1) + np.std(counts, axis=1), alpha=0.3)\n",
    "plt.show()"
   ]
  },
  {
   "cell_type": "code",
   "execution_count": 4,
   "metadata": {},
   "outputs": [],
   "source": [
    "ds = [10, 25, 50, 75, 100]\n",
    "d_projs = [1, 2, 3]\n",
    "k = 10\n",
    "n = 20000\n",
    "rhos = np.round(np.linspace(0, 1, 11), 2)\n",
    "copier = Memorizer()"
   ]
  },
  {
   "cell_type": "code",
   "execution_count": 5,
   "metadata": {},
   "outputs": [],
   "source": [
    "# results = np.zeros((n, k, len(ds), len(d_projs), len(rhos))).astype(bool)\n",
    "\n",
    "# for i, d in enumerate(ds):\n",
    "#     p = Sphere(d=d)\n",
    "#     X = p.sample(n)\n",
    "#     for j, r in enumerate(tqdm(rhos)):\n",
    "#         q = Mixture(rho=r, q1=copier, q2=p).fit(X)\n",
    "#         X1_gen = q.sample(n)\n",
    "#         X2_gen = q.sample(n)\n",
    "#         for l, d_proj in enumerate(d_projs):\n",
    "#             for m in range(k):\n",
    "#                 rp = GaussianRandomProjection(n_components=d_proj).fit(X)\n",
    "#                 dcd = DataCopyingDetector()\n",
    "#                 idx = dcd.get_copying_indices(rp.transform(X), rp.transform(X1_gen), rp.transform(X2_gen))\n",
    "#                 results[idx, m, i, l, j] = True\n",
    "\n",
    "# # save results\n",
    "# np.save('../doc/exp/Sphere/mixed_model_results.npy', results)"
   ]
  },
  {
   "cell_type": "code",
   "execution_count": 6,
   "metadata": {},
   "outputs": [],
   "source": [
    "### plotting\n",
    "results = np.load('../doc/exp/Sphere/mixed_model_results.npy')\n",
    "majority_votes = (results.mean(axis=1) > 0.5).mean(axis=0)\n",
    "\n",
    "line_styles = ['--', '-.', ':']\n",
    "markers = ['.', '^', 'x', 's']\n",
    "colors = sns.color_palette('colorblind')\n",
    "fig, axs = plt.subplots(2, 3, figsize=(textwidth_in_inches, 3), sharex=True, sharey=True)\n",
    "axs = axs.flatten()\n",
    "\n",
    "for i, d in enumerate(ds):\n",
    "    axs[i].plot(rhos, rhos, label='True $cr_q$', linestyle='-', color='black')\n",
    "    for j, d_proj in enumerate(d_projs):\n",
    "        # plot ground truth\n",
    "        axs[i].plot(rhos, majority_votes[i, j], label='$d_{\\\\mathrm{proj}}=$' + str(d_proj), linestyle=line_styles[j], marker=markers[j], markersize=5, color=colors[j])\n",
    "    # title is (a), (b), (c), ...\n",
    "    axs[i].set_title(f\"({chr(97 + i)}) $d={d}$\")\n",
    "\n",
    "# labeling axis in first column and last row\n",
    "axs[0].set_ylabel('$cr_q$')\n",
    "axs[3].set_ylabel('$cr_q$')\n",
    "axs[3].set_xlabel('$\\\\rho$')\n",
    "axs[4].set_xlabel('$\\\\rho$')\n",
    "\n",
    "axs[5].axis('off')\n",
    "handles, labels = axs[0].get_legend_handles_labels()\n",
    "axs[5].legend(handles, labels, loc='center')\n",
    "\n",
    "plt.tight_layout(pad=0.5)\n",
    "plt.savefig('../doc/figures/Sphere/majority_votes.png', dpi=300)\n",
    "plt.close()"
   ]
  },
  {
   "cell_type": "markdown",
   "metadata": {},
   "source": [
    "# Multivariate Gaussian"
   ]
  },
  {
   "cell_type": "code",
   "execution_count": 7,
   "metadata": {},
   "outputs": [],
   "source": [
    "ds = [10, 25, 50, 75, 100]\n",
    "d_projs = [1, 2, 3]\n",
    "k = 10\n",
    "n = 20000\n",
    "rhos = np.round(np.linspace(0, 1, 11), 2)\n",
    "copier = Memorizer()"
   ]
  },
  {
   "cell_type": "code",
   "execution_count": 8,
   "metadata": {},
   "outputs": [],
   "source": [
    "# results = np.zeros((n, k, len(ds), len(d_projs), len(rhos))).astype(bool)\n",
    "\n",
    "# for i, d in enumerate(ds):\n",
    "#     p = MultivariateGaussian(dim=d)\n",
    "#     X = p.sample(n)\n",
    "#     for j, r in enumerate(tqdm(rhos)):\n",
    "#         q = Mixture(rho=r, q1=copier, q2=p).fit(X)\n",
    "#         X1_gen = q.sample(n)\n",
    "#         X2_gen = q.sample(n)\n",
    "#         for l, d_proj in enumerate(d_projs):\n",
    "#             for m in range(k):\n",
    "#                 rp = GaussianRandomProjection(n_components=d_proj).fit(X)\n",
    "#                 dcd = DataCopyingDetector()\n",
    "#                 idx = dcd.get_copying_indices(rp.transform(X), rp.transform(X1_gen), rp.transform(X2_gen))\n",
    "#                 results[idx, m, i, l, j] = True\n",
    "\n",
    "\n",
    "# # save results\n",
    "# np.save('../doc/exp/MultivariateGaussian/mixed_model_results.npy', results)"
   ]
  },
  {
   "cell_type": "code",
   "execution_count": 9,
   "metadata": {},
   "outputs": [],
   "source": [
    "### plotting\n",
    "results = np.load('../doc/exp/MultivariateGaussian/mixed_model_results.npy')\n",
    "majority_votes = (results.mean(axis=1) > 0.5).mean(axis=0)\n",
    "\n",
    "line_styles = ['--', '-.', ':']\n",
    "markers = ['.', '^', 'x', 's']\n",
    "colors = sns.color_palette('colorblind')\n",
    "fig, axs = plt.subplots(2, 3, figsize=(textwidth_in_inches, 3), sharex=True, sharey=True)\n",
    "axs = axs.flatten()\n",
    "\n",
    "for i, d in enumerate(ds):\n",
    "    axs[i].plot(rhos, rhos, label='True $cr_q$', linestyle='-', color='black')\n",
    "    for j, d_proj in enumerate(d_projs):\n",
    "        # plot ground truth\n",
    "        axs[i].plot(rhos, majority_votes[i, j], label='$d_{\\\\mathrm{proj}}=$' + str(d_proj), linestyle=line_styles[j], marker=markers[j], markersize=5, color=colors[j])\n",
    "    axs[i].set_title(f\"({chr(97 + i)}) $d={d}$\")\n",
    "\n",
    "# labeling axis in first column and last row\n",
    "axs[0].set_ylabel('$cr_q$')\n",
    "axs[3].set_ylabel('$cr_q$')\n",
    "axs[3].set_xlabel('$\\\\rho$')\n",
    "axs[4].set_xlabel('$\\\\rho$')\n",
    "\n",
    "axs[5].axis('off')\n",
    "handles, labels = axs[0].get_legend_handles_labels()\n",
    "axs[5].legend(handles, labels, loc='center')\n",
    "\n",
    "plt.tight_layout(pad=0.5)\n",
    "plt.savefig('../doc/figures/MultivariateGaussian/majority_votes.png', dpi=300)\n",
    "plt.close()"
   ]
  },
  {
   "cell_type": "code",
   "execution_count": null,
   "metadata": {},
   "outputs": [],
   "source": []
  }
 ],
 "metadata": {
  "kernelspec": {
   "display_name": "masterthesis",
   "language": "python",
   "name": "python3"
  },
  "language_info": {
   "codemirror_mode": {
    "name": "ipython",
    "version": 3
   },
   "file_extension": ".py",
   "mimetype": "text/x-python",
   "name": "python",
   "nbconvert_exporter": "python",
   "pygments_lexer": "ipython3",
   "version": "3.12.3"
  }
 },
 "nbformat": 4,
 "nbformat_minor": 2
}
