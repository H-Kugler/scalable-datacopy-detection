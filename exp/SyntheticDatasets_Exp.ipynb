{
 "cells": [
  {
   "cell_type": "code",
   "execution_count": 1,
   "metadata": {},
   "outputs": [],
   "source": [
    "import numpy as np\n",
    "import pandas as pd\n",
    "import matplotlib.pyplot as plt\n",
    "from matplotlib import rc\n",
    "import seaborn as sns\n",
    "import sys\n",
    "from sklearn.random_projection import GaussianRandomProjection\n",
    "from tqdm import tqdm\n",
    "\n",
    "sys.path.append('../')\n",
    "sys.path.append('../src/')\n",
    "from src.generative import Sphere, Memorizer, Mixture, MultivariateGaussian\n",
    "from src.detection import DataCopyingDetector"
   ]
  },
  {
   "cell_type": "code",
   "execution_count": 2,
   "metadata": {},
   "outputs": [],
   "source": [
    "# Set LaTeX for text rendering and configure Palatino fonts\n",
    "rc('text', usetex=True)  # Enable LaTeX rendering\n",
    "rc('font', family='serif')  # Use serif fonts\n",
    "rc('font', serif='Palatino')  # Set Palatino as the serif font\n",
    "\n",
    "# Add dsfont package to the LaTeX preamble for double-struck symbols\n",
    "plt.rcParams['text.latex.preamble'] = r'\\usepackage{dsfont}'\n",
    "\n",
    "# Set plotting style and font sizes\n",
    "plt.rcParams.update({\n",
    "    'font.size': 10,          # Base font size\n",
    "    'axes.titlesize': 9,     # Title size\n",
    "    'axes.labelsize': 8,     # Axis labels size\n",
    "    'xtick.labelsize': 7,    # X-axis tick labels size\n",
    "    'ytick.labelsize': 7     # Y-axis tick labels size\n",
    "})\n",
    "\n",
    "# Define line styles, colors, markers\n",
    "line_styles = ['-', '--', ':']\n",
    "colors = sns.color_palette('colorblind')\n",
    "markers = ['x', '^', 'h', '^', 'v', '>', '<', 'p', '*', 'h']\n",
    "markersize = [5, 4, 3, 2, 1]\n",
    "\n",
    "# Calculate textwidth in inches for plot sizing\n",
    "textwidth_in_inches = 398.33864 / 72.27\n"
   ]
  },
  {
   "cell_type": "markdown",
   "metadata": {},
   "source": [
    "# Sphere"
   ]
  },
  {
   "cell_type": "code",
   "execution_count": 3,
   "metadata": {},
   "outputs": [
    {
     "data": {
      "image/png": "[encoded data removed]",
      "text/plain": [
       "<Figure size 640x480 with 1 Axes>"
      ]
     },
     "metadata": {},
     "output_type": "display_data"
    }
   ],
   "source": [
    "# Visualization in two dimensions\n",
    "p = Sphere(d=2)\n",
    "X = p.sample(500)\n",
    "\n",
    "plt.scatter(X[:, 0], X[:, 1])\n",
    "plt.show()"
   ]
  },
  {
   "cell_type": "code",
   "execution_count": 4,
   "metadata": {},
   "outputs": [
    {
     "name": "stdout",
     "output_type": "stream",
     "text": [
      "Estimated data copying rate for d=2: 0.9999\n",
      "Estimated data copying rate for d=4: 0.1835\n",
      "Estimated data copying rate for d=5: 0.08085\n",
      "Estimated data copying rate for d=10: 0.02905\n",
      "Estimated data copying rate for d=20: 0.10735\n"
     ]
    },
    {
     "ename": "KeyboardInterrupt",
     "evalue": "",
     "output_type": "error",
     "traceback": [
      "\u001b[0;31m---------------------------------------------------------------------------\u001b[0m",
      "\u001b[0;31mKeyboardInterrupt\u001b[0m                         Traceback (most recent call last)",
      "Cell \u001b[0;32mIn[4], line 6\u001b[0m\n\u001b[1;32m      4\u001b[0m X \u001b[38;5;241m=\u001b[39m p\u001b[38;5;241m.\u001b[39msample(\u001b[38;5;241m20000\u001b[39m)\n\u001b[1;32m      5\u001b[0m det \u001b[38;5;241m=\u001b[39m DataCopyingDetector()\n\u001b[0;32m----> 6\u001b[0m \u001b[38;5;28mprint\u001b[39m(\u001b[38;5;124mf\u001b[39m\u001b[38;5;124m\"\u001b[39m\u001b[38;5;124mEstimated data copying rate for d=\u001b[39m\u001b[38;5;132;01m{\u001b[39;00md\u001b[38;5;132;01m}\u001b[39;00m\u001b[38;5;124m: \u001b[39m\u001b[38;5;132;01m{\u001b[39;00mdet\u001b[38;5;241m.\u001b[39mestimate_cr(X,\u001b[38;5;250m \u001b[39mp,\u001b[38;5;250m \u001b[39mm\u001b[38;5;241m=\u001b[39m\u001b[38;5;241m20000\u001b[39m)\u001b[38;5;132;01m}\u001b[39;00m\u001b[38;5;124m\"\u001b[39m)\n",
      "File \u001b[0;32m~/Desktop/masterthesis/master-thesis-2/exp/../src/detection.py:68\u001b[0m, in \u001b[0;36mDataCopyingDetector.estimate_cr\u001b[0;34m(self, S, q, m, type)\u001b[0m\n\u001b[1;32m     66\u001b[0m U \u001b[38;5;241m=\u001b[39m q\u001b[38;5;241m.\u001b[39msample(m, S\u001b[38;5;241m=\u001b[39m\u001b[38;5;124m\"\u001b[39m\u001b[38;5;124mval\u001b[39m\u001b[38;5;124m\"\u001b[39m)\n\u001b[1;32m     67\u001b[0m \u001b[38;5;28;01mif\u001b[39;00m \u001b[38;5;28mtype\u001b[39m \u001b[38;5;241m==\u001b[39m \u001b[38;5;124m\"\u001b[39m\u001b[38;5;124moriginal\u001b[39m\u001b[38;5;124m\"\u001b[39m:\n\u001b[0;32m---> 68\u001b[0m     \u001b[38;5;28;01mreturn\u001b[39;00m \u001b[38;5;28mlen\u001b[39m(\u001b[38;5;28mself\u001b[39m\u001b[38;5;241m.\u001b[39mget_copying_indices(S, T, U)) \u001b[38;5;241m/\u001b[39m m\n\u001b[1;32m     69\u001b[0m \u001b[38;5;28;01melif\u001b[39;00m \u001b[38;5;28mtype\u001b[39m \u001b[38;5;241m==\u001b[39m \u001b[38;5;124m\"\u001b[39m\u001b[38;5;124mset\u001b[39m\u001b[38;5;124m\"\u001b[39m:\n\u001b[1;32m     70\u001b[0m     \u001b[38;5;28;01mreturn\u001b[39;00m \u001b[38;5;28mself\u001b[39m\u001b[38;5;241m.\u001b[39mcr_set(S, T, U)\n",
      "File \u001b[0;32m~/Desktop/masterthesis/master-thesis-2/exp/../src/detection.py:155\u001b[0m, in \u001b[0;36mDataCopyingDetector.get_copying_indices\u001b[0;34m(self, S, T, U)\u001b[0m\n\u001b[1;32m    153\u001b[0m     \u001b[38;5;28;01mreturn\u001b[39;00m \u001b[38;5;28mself\u001b[39m\u001b[38;5;241m.\u001b[39m_get_copying_indices_1D(S, T, U)\n\u001b[1;32m    154\u001b[0m \u001b[38;5;28;01melse\u001b[39;00m:\n\u001b[0;32m--> 155\u001b[0m     \u001b[38;5;28;01mreturn\u001b[39;00m \u001b[38;5;28mself\u001b[39m\u001b[38;5;241m.\u001b[39m_get_copying_indices(S, T, U)\n",
      "File \u001b[0;32m~/Desktop/masterthesis/master-thesis-2/exp/../src/detection.py:279\u001b[0m, in \u001b[0;36mDataCopyingDetector._get_copying_indices\u001b[0;34m(self, S, T, U)\u001b[0m\n\u001b[1;32m    275\u001b[0m p_i_s \u001b[38;5;241m=\u001b[39m (b \u001b[38;5;241m*\u001b[39m radii_candidates[i][j \u001b[38;5;241m-\u001b[39m \u001b[38;5;241m1\u001b[39m] \u001b[38;5;241m*\u001b[39m\u001b[38;5;241m*\u001b[39m d) \u001b[38;5;241m/\u001b[39m (\n\u001b[1;32m    276\u001b[0m     n \u001b[38;5;241m*\u001b[39m radii_max[i] \u001b[38;5;241m*\u001b[39m\u001b[38;5;241m*\u001b[39m d\n\u001b[1;32m    277\u001b[0m )\n\u001b[1;32m    278\u001b[0m \u001b[38;5;66;03m# TODO: p_i has to be calculated then by the number of points in the ball i.e. querying the tree which is slower\u001b[39;00m\n\u001b[0;32m--> 279\u001b[0m \u001b[38;5;28;01mif\u001b[39;00m \u001b[38;5;28mself\u001b[39m\u001b[38;5;241m.\u001b[39mlmbda \u001b[38;5;241m*\u001b[39m p_i_s \u001b[38;5;241m<\u001b[39m\u001b[38;5;241m=\u001b[39m q_i_s:\n\u001b[1;32m    280\u001b[0m     radii[i] \u001b[38;5;241m=\u001b[39m radii_candidates[i][j \u001b[38;5;241m-\u001b[39m \u001b[38;5;241m1\u001b[39m]\n\u001b[1;32m    281\u001b[0m     \u001b[38;5;28;01mbreak\u001b[39;00m\n",
      "\u001b[0;31mKeyboardInterrupt\u001b[0m: "
     ]
    }
   ],
   "source": [
    "# small d seem not to be working\n",
    "for d in [2, 4, 5, 10, 20, 50]:\n",
    "    p = Sphere(d=d)\n",
    "    X = p.sample(20000)\n",
    "    det = DataCopyingDetector()\n",
    "    print(f\"Estimated data copying rate for d={d}: {det.estimate_cr(X, p, m=20000)}\")"
   ]
  },
  {
   "cell_type": "markdown",
   "metadata": {},
   "source": [
    "__Analysis:__ \n",
    "\n",
    "- Copying Rate for small dimensions, i.e. $\\mathcal{R}^{d}$ with $d \\leq 5$ is not zero which is an unwanted behaviour. Reason: Intrinsic dimension is $d-1$.\n",
    "- Same goes for $\\mathcal{R}^{d}$ with $d \\geq 20)$. $\\gamma$ is too large resulting to classification of generated points of the true distribution as data copies. So there would be the need to adjust it."
   ]
  },
  {
   "cell_type": "code",
   "execution_count": null,
   "metadata": {},
   "outputs": [],
   "source": [
    "# check regularity for different d\n",
    "fig, axs = plt.subplots(3, 3, figsize=(15, 15))\n",
    "for i, d in enumerate([2, 3, 4, 5, 6, 7, 8, 9, 10]):\n",
    "    p = Sphere(d=d) \n",
    "    X = p.sample(2000)\n",
    "    radii = np.logspace(-2, 0, 100)\n",
    "    counts = np.zeros((len(radii), len(X)))\n",
    "    for k, x in enumerate(X):\n",
    "        for j, r in enumerate(radii):\n",
    "            counts[j, k] = np.sum(np.linalg.norm(X - x, axis=1) < r)\n",
    "\n",
    "    axs[i // 3, i % 3].plot(radii, np.mean(counts, axis=1))\n",
    "    axs[i // 3, i % 3].set_title(f\"d={d}\")\n",
    "    axs[i // 3, i % 3].fill_between(radii, np.mean(counts, axis=1) - np.std(counts, axis=1), np.mean(counts, axis=1) + np.std(counts, axis=1), alpha=0.3)\n",
    "plt.show()"
   ]
  },
  {
   "cell_type": "code",
   "execution_count": 5,
   "metadata": {},
   "outputs": [],
   "source": [
    "ds = [10, 25, 50, 75, 100]\n",
    "d_projs = [1, 2, 3]\n",
    "k = 10\n",
    "n = 20000\n",
    "rhos = np.round(np.linspace(0, 1, 11), 2)\n",
    "copier = Memorizer()"
   ]
  },
  {
   "cell_type": "code",
   "execution_count": 5,
   "metadata": {},
   "outputs": [],
   "source": [
    "# results = np.zeros((n, k, len(ds), len(d_projs), len(rhos))).astype(bool)\n",
    "\n",
    "# for i, d in enumerate(ds):\n",
    "#     p = Sphere(d=d)\n",
    "#     X = p.sample(n)\n",
    "#     for j, r in enumerate(tqdm(rhos)):\n",
    "#         q = Mixture(rho=r, q1=copier, q2=p).fit(X)\n",
    "#         X1_gen = q.sample(n)\n",
    "#         X2_gen = q.sample(n)\n",
    "#         for l, d_proj in enumerate(d_projs):\n",
    "#             for m in range(k):\n",
    "#                 rp = GaussianRandomProjection(n_components=d_proj).fit(X)\n",
    "#                 dcd = DataCopyingDetector()\n",
    "#                 idx = dcd.get_copying_indices(rp.transform(X), rp.transform(X1_gen), rp.transform(X2_gen))\n",
    "#                 results[idx, m, i, l, j] = True\n",
    "\n",
    "# # save results\n",
    "# np.save('../doc/exp/Sphere/mixed_model_results.npy', results)"
   ]
  },
  {
   "cell_type": "code",
   "execution_count": 7,
   "metadata": {},
   "outputs": [],
   "source": [
    "### plotting\n",
    "results = np.load('../doc/Sphere/mixed_model_results.npy')\n",
    "majority_votes = (results.mean(axis=1) > 0.5).mean(axis=0)\n",
    "\n",
    "line_styles = ['--', '-.', ':']\n",
    "markers = ['.', '^', 'x', 's']\n",
    "colors = sns.color_palette('colorblind')\n",
    "fig, axs = plt.subplots(2, 3, figsize=(textwidth_in_inches, 3), sharex=True, sharey=True)\n",
    "axs = axs.flatten()\n",
    "\n",
    "for i, d in enumerate(ds):\n",
    "    axs[i].plot(rhos, rhos, label='True $cr_q$', linestyle='-', color='black')\n",
    "    for j, d_proj in enumerate(d_projs):\n",
    "        # plot ground truth\n",
    "        axs[i].plot(rhos, majority_votes[i, j], label='$d_{\\\\mathrm{proj}}=$' + str(d_proj), linestyle=line_styles[j], marker=markers[j], markersize=5, color=colors[j])\n",
    "    axs[i].set_title(f\"({chr(97 + i)}) $d={d}$\")\n",
    "    axs[i].set_xticks(np.linspace(0, 1, 6))\n",
    "    axs[i].set_yticks(np.linspace(0, 1, 6))\n",
    "\n",
    "# labeling axis in first column and last row\n",
    "axs[0].set_ylabel('$cr_q$')\n",
    "axs[3].set_ylabel('$cr_q$')\n",
    "axs[3].set_xlabel('$\\\\rho$')\n",
    "axs[4].set_xlabel('$\\\\rho$')\n",
    "\n",
    "axs[5].axis('off')\n",
    "handles, labels = axs[0].get_legend_handles_labels()\n",
    "axs[5].legend(handles, labels, loc='center')\n",
    "\n",
    "plt.tight_layout(pad=0.5)\n",
    "plt.savefig('../doc/Sphere/majority_votes.png', dpi=300)\n",
    "plt.close()"
   ]
  },
  {
   "cell_type": "markdown",
   "metadata": {},
   "source": [
    "# Multivariate Gaussian"
   ]
  },
  {
   "cell_type": "code",
   "execution_count": 8,
   "metadata": {},
   "outputs": [],
   "source": [
    "ds = [10, 25, 50, 75, 100]\n",
    "d_projs = [1, 2, 3]\n",
    "k = 10\n",
    "n = 20000\n",
    "rhos = np.round(np.linspace(0, 1, 11), 2)\n",
    "copier = Memorizer()"
   ]
  },
  {
   "cell_type": "code",
   "execution_count": 9,
   "metadata": {},
   "outputs": [],
   "source": [
    "# results = np.zeros((n, k, len(ds), len(d_projs), len(rhos))).astype(bool)\n",
    "\n",
    "# for i, d in enumerate(ds):\n",
    "#     p = MultivariateGaussian(dim=d)\n",
    "#     X = p.sample(n)\n",
    "#     for j, r in enumerate(tqdm(rhos)):\n",
    "#         q = Mixture(rho=r, q1=copier, q2=p).fit(X)\n",
    "#         X1_gen = q.sample(n)\n",
    "#         X2_gen = q.sample(n)\n",
    "#         for l, d_proj in enumerate(d_projs):\n",
    "#             for m in range(k):\n",
    "#                 rp = GaussianRandomProjection(n_components=d_proj).fit(X)\n",
    "#                 dcd = DataCopyingDetector()\n",
    "#                 idx = dcd.get_copying_indices(rp.transform(X), rp.transform(X1_gen), rp.transform(X2_gen))\n",
    "#                 results[idx, m, i, l, j] = True\n",
    "\n",
    "\n",
    "# # save results\n",
    "# np.save('../doc/exp/MultivariateGaussian/mixed_model_results.npy', results)"
   ]
  },
  {
   "cell_type": "code",
   "execution_count": 11,
   "metadata": {},
   "outputs": [],
   "source": [
    "### plotting\n",
    "results = np.load('../doc/MultivariateGaussian/mixed_model_results.npy')\n",
    "majority_votes = (results.mean(axis=1) > 0.5).mean(axis=0)\n",
    "\n",
    "line_styles = ['--', '-.', ':']\n",
    "markers = ['.', '^', 'x', 's']\n",
    "colors = sns.color_palette('colorblind')\n",
    "fig, axs = plt.subplots(2, 3, figsize=(textwidth_in_inches, 3), sharex=True, sharey=True)\n",
    "axs = axs.flatten()\n",
    "\n",
    "for i, d in enumerate(ds):\n",
    "    axs[i].plot(rhos, rhos, label='True $cr_q$', linestyle='-', color='black')\n",
    "    for j, d_proj in enumerate(d_projs):\n",
    "        # plot ground truth\n",
    "        axs[i].plot(rhos, majority_votes[i, j], label='$d_{\\\\mathrm{proj}}=$' + str(d_proj), linestyle=line_styles[j], marker=markers[j], markersize=5, color=colors[j])\n",
    "    axs[i].set_title(f\"({chr(97 + i)}) $d={d}$\")\n",
    "    axs[i].set_xticks(np.linspace(0, 1, 6))\n",
    "    axs[i].set_yticks(np.linspace(0, 1, 6))\n",
    "\n",
    "# labeling axis in first column and last row\n",
    "axs[0].set_ylabel('$cr_q$')\n",
    "axs[3].set_ylabel('$cr_q$')\n",
    "axs[3].set_xlabel('$\\\\rho$')\n",
    "axs[4].set_xlabel('$\\\\rho$')\n",
    "\n",
    "axs[5].axis('off')\n",
    "handles, labels = axs[0].get_legend_handles_labels()\n",
    "axs[5].legend(handles, labels, loc='center')\n",
    "\n",
    "plt.tight_layout(pad=0.5)\n",
    "plt.savefig('../doc/MultivariateGaussian/majority_votes.png', dpi=300)\n",
    "plt.close()"
   ]
  },
  {
   "cell_type": "code",
   "execution_count": null,
   "metadata": {},
   "outputs": [],
   "source": []
  }
 ],
 "metadata": {
  "kernelspec": {
   "display_name": "masterthesis",
   "language": "python",
   "name": "python3"
  },
  "language_info": {
   "codemirror_mode": {
    "name": "ipython",
    "version": 3
   },
   "file_extension": ".py",
   "mimetype": "text/x-python",
   "name": "python",
   "nbconvert_exporter": "python",
   "pygments_lexer": "ipython3",
   "version": "3.12.3"
  }
 },
 "nbformat": 4,
 "nbformat_minor": 2
}
