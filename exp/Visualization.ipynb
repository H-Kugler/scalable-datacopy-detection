{
 "cells": [
  {
   "cell_type": "code",
   "execution_count": 26,
   "metadata": {},
   "outputs": [],
   "source": [
    "import numpy as np\n",
    "import matplotlib.pyplot as plt\n",
    "import seaborn as sns\n",
    "import pandas as pd\n",
    "from sklearn.random_projection import GaussianRandomProjection\n",
    "import os\n",
    "import sys\n",
    "\n",
    "sys.path.append('../')\n",
    "sys.path.append('../src/')\n",
    "\n",
    "from src.generative import *\n",
    "from src.utils import *"
   ]
  },
  {
   "cell_type": "markdown",
   "metadata": {},
   "source": [
    "# Visualization of data-copying"
   ]
  },
  {
   "cell_type": "markdown",
   "metadata": {},
   "source": [
    "## Intuition using MNIST"
   ]
  },
  {
   "cell_type": "code",
   "execution_count": 27,
   "metadata": {},
   "outputs": [],
   "source": [
    "mnist = MNIST(root='../data.nosync/').fit()\n",
    "X_train, y_train, X_test, y_test = mnist.get_train_and_test_data()\n",
    "\n",
    "c = 8 # class 8\n",
    "X_train_8 = X_train[y_train == c].reshape(-1, 28*28)\n",
    "X_test_8 = X_test[y_test == c].reshape(-1, 28*28)\n",
    "\n",
    "# extract random subset of 100 samples\n",
    "np.random.seed(0)\n",
    "X_train_8 = X_train_8[np.random.choice(X_train_8.shape[0], 20, replace=False)]\n",
    "X_test_8 = X_test_8[np.random.choice(X_test_8.shape[0], 20, replace=False)]"
   ]
  },
  {
   "cell_type": "code",
   "execution_count": 28,
   "metadata": {},
   "outputs": [],
   "source": [
    "q = Memorizer(n_copying=3, radius=0.8)\n",
    "q.fit(X_train_8)\n",
    "X_gen = q.sample(20)"
   ]
  },
  {
   "cell_type": "code",
   "execution_count": 37,
   "metadata": {},
   "outputs": [],
   "source": [
    "rp = GaussianRandomProjection(n_components=2)\n",
    "X_train_8_rp = rp.fit_transform(X_train_8)\n",
    "X_test_8_rp = rp.transform(X_test_8)\n",
    "X_gen_rp = rp.transform(X_gen)\n",
    "subset_rp = rp.transform(q.subset)"
   ]
  },
  {
   "cell_type": "code",
   "execution_count": 38,
   "metadata": {},
   "outputs": [],
   "source": [
    "textwidth = set_plotting_params()\n",
    "colors = sns.color_palette('colorblind')\n",
    "markers = ['o', 'x', 's', '^', 'v', '<', '>', 'd', 'p', 'P']\n",
    "\n",
    "fig = plt.figure(figsize=(textwidth, 0.4*textwidth))\n",
    "grid_spec = fig.add_gridspec(1, 2, width_ratios=[1, 1])\n",
    "\n",
    "# Left panel: Create a 3x5 grid for images, and a row for labels on the left\n",
    "left_grid = grid_spec[0].subgridspec(3, 6, width_ratios=[0.3, 1, 1, 1, 1, 1])  # First column is for labels\n",
    "fig.text(0.25, 0.925, '(a) Pixel-Space', va='center', ha='center')\n",
    "# Row labels\n",
    "row_labels = ['Train', 'Test', 'Copies']\n",
    "\n",
    "# Add images and row labels\n",
    "for row in range(3):\n",
    "    ax_label = fig.add_subplot(left_grid[row, 0])  # Empty subplot for row labels\n",
    "    ax_label.text(0.5, 0.5, row_labels[row], va='center', ha='center', fontsize=7, rotation=90)\n",
    "    ax_label.axis('off')  # No axis for labels\n",
    "\n",
    "    for col in range(5):\n",
    "        ax_img = fig.add_subplot(left_grid[row, col + 1])  \n",
    "        if row == 0:\n",
    "            if col < 3:\n",
    "                ax_img.imshow(q.subset[col].reshape(28, 28), cmap='gray')\n",
    "            else:\n",
    "                ax_img.imshow(X_train_8[col-3].reshape(28, 28), cmap='gray')\n",
    "        elif row == 1:\n",
    "            ax_img.imshow(X_test_8[col].reshape(28, 28), cmap='gray')\n",
    "        else:\n",
    "            ax_img.imshow(X_gen[col].reshape(28, 28), cmap='gray')\n",
    "        \n",
    "        ax_img.axis('off')  # Hide axis for images\n",
    "\n",
    "# Right panel: Scatter plot\n",
    "ax2 = fig.add_subplot(grid_spec[0, 1])\n",
    "ax2.scatter(X_gen_rp[:, 0], X_gen_rp[:, 1], color=colors[1], s=12, marker=markers[1], alpha=0.7, label='Copies')\n",
    "ax2.scatter(X_train_8_rp[:, 0], X_train_8_rp[:, 1], color=colors[0], s=12, marker=markers[0], alpha=0.7, label='Train')\n",
    "ax2.scatter(X_test_8_rp[:, 0], X_test_8_rp[:, 1], color=colors[2], s=12, marker=markers[2], alpha=0.7, label='Test')\n",
    "ax2.set_title(\"(b) 2D Random Projection\")\n",
    "# draw a circle around the points of subset_rp\n",
    "for i in range(subset_rp.shape[0]):\n",
    "    ax2.add_artist(plt.Circle(subset_rp[i], 2, fill=False, color='black', linewidth=0.7))\n",
    "# remove ticks\n",
    "ax2.set_xticks([])\n",
    "ax2.set_yticks([])\n",
    "ax2.legend(loc='lower right', fontsize=7)\n",
    "\n",
    "plt.tight_layout()\n",
    "plt.savefig('../doc/algorithm_vis.png', dpi=300)\n",
    "plt.close()"
   ]
  },
  {
   "cell_type": "markdown",
   "metadata": {},
   "source": [
    "## Vis Defintion"
   ]
  },
  {
   "cell_type": "code",
   "execution_count": 54,
   "metadata": {},
   "outputs": [],
   "source": [
    "# visualize data-copying with p being uniform \n",
    "X = np.random.rand(15, 2)\n",
    "X2 = np.random.rand(15, 2)\n",
    "\n",
    "q = Memorizer(n_copying=2, radius=0.075)\n",
    "X_gen = q.fit(X).sample(8)\n",
    "X3 = np.random.rand(10, 2)\n",
    "\n",
    "# stack X_gen and X3\n",
    "X_gen = np.vstack([X_gen, X3])"
   ]
  },
  {
   "cell_type": "code",
   "execution_count": 55,
   "metadata": {},
   "outputs": [],
   "source": [
    "textwidth = set_plotting_params()\n",
    "colors = sns.color_palette('colorblind')\n",
    "markers = ['o', 'x', 's', '^', 'v', '<', '>', 'd', 'p', 'P']\n",
    "\n",
    "fig, axs = plt.subplots(1, 2, figsize=(0.7*textwidth, 0.35*textwidth))\n",
    "axs[0].scatter(X[:, 0], X[:, 1], color=colors[0], s=12, marker=markers[0], alpha=0.7, label='S')\n",
    "axs[0].scatter(X2[:, 0], X2[:, 1], color=colors[1], s=12, marker=markers[1], alpha=0.7, label='T')\n",
    "\n",
    "axs[1].scatter(X[:, 0], X[:, 1], color=colors[0], s=12, marker=markers[0], alpha=0.7, label='S')\n",
    "axs[1].scatter(X_gen[:, 0], X_gen[:, 1], color=colors[1], s=12, marker=markers[1], alpha=0.7, label='T')\n",
    "# draw circles around q.subset\n",
    "for i in range(q.subset.shape[0]):\n",
    "    axs[1].add_artist(plt.Circle(q.subset[i], 0.085, fill=False, color='black', linewidth=0.7))\n",
    "\n",
    "axs[0].set_title(\"(a) No Data-Copying\", fontsize=8)\n",
    "axs[1].set_title(\"(b) Data-Copying\", fontsize=8)\n",
    "\n",
    "axs[1].legend(loc='upper right', fontsize=8)\n",
    "\n",
    "\n",
    "# remove ticks\n",
    "for ax in axs:\n",
    "    ax.set_xticks([])\n",
    "    ax.set_yticks([])\n",
    "\n",
    "plt.tight_layout()\n",
    "plt.savefig('../doc/data_copying.png', dpi=300)\n",
    "plt.close()"
   ]
  },
  {
   "cell_type": "code",
   "execution_count": 58,
   "metadata": {},
   "outputs": [],
   "source": [
    "# plot the same in single plots\n",
    "fig, ax = plt.subplots(1, 1, figsize=(0.35*textwidth, 0.35*textwidth))\n",
    "ax.scatter(X[:, 0], X[:, 1], color=colors[0], s=12, marker=markers[0], alpha=0.7, label='Train')\n",
    "ax.scatter(X2[:, 0], X2[:, 1], color=colors[1], s=12, marker=markers[1], alpha=0.7, label='Generated')\n",
    "ax.legend(loc='upper right', fontsize=8)\n",
    "ax.set_xticks([])\n",
    "ax.set_yticks([])\n",
    "plt.tight_layout()\n",
    "plt.savefig('../doc/data_copying_no.png', dpi=300)\n",
    "plt.close()"
   ]
  },
  {
   "cell_type": "code",
   "execution_count": 59,
   "metadata": {},
   "outputs": [],
   "source": [
    "fig, ax = plt.subplots(1, 1, figsize=(0.35*textwidth, 0.35*textwidth))\n",
    "ax.scatter(X[:, 0], X[:, 1], color=colors[0], s=12, marker=markers[0], alpha=0.7, label='Train')\n",
    "ax.scatter(X_gen[:, 0], X_gen[:, 1], color=colors[1], s=12, marker=markers[1], alpha=0.7, label='Generated')\n",
    "# draw circles around q.subset\n",
    "for i in range(q.subset.shape[0]):\n",
    "    ax.add_artist(plt.Circle(q.subset[i], 0.085, fill=False, color='black', linewidth=0.7))\n",
    "ax.legend(loc='upper right', fontsize=8)\n",
    "ax.set_xticks([])\n",
    "ax.set_yticks([])\n",
    "plt.tight_layout()\n",
    "plt.savefig('../doc/data_copying_yes.png', dpi=300)\n",
    "plt.close()"
   ]
  },
  {
   "cell_type": "code",
   "execution_count": null,
   "metadata": {},
   "outputs": [],
   "source": []
  },
  {
   "cell_type": "code",
   "execution_count": null,
   "metadata": {},
   "outputs": [],
   "source": []
  }
 ],
 "metadata": {
  "kernelspec": {
   "display_name": "masterthesis",
   "language": "python",
   "name": "python3"
  },
  "language_info": {
   "codemirror_mode": {
    "name": "ipython",
    "version": 3
   },
   "file_extension": ".py",
   "mimetype": "text/x-python",
   "name": "python",
   "nbconvert_exporter": "python",
   "pygments_lexer": "ipython3",
   "version": "3.12.3"
  }
 },
 "nbformat": 4,
 "nbformat_minor": 2
}
