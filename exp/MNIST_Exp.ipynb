{
 "cells": [
  {
   "cell_type": "code",
   "execution_count": 1,
   "metadata": {},
   "outputs": [],
   "source": [
    "import numpy as np\n",
    "import matplotlib.pyplot as plt\n",
    "import matplotlib.patches as mpatches\n",
    "import seaborn as sns\n",
    "from tqdm import tqdm\n",
    "from sklearn.random_projection import GaussianRandomProjection\n",
    "from sklearn.neighbors import NearestNeighbors\n",
    "import sys\n",
    "\n",
    "sys.path.append('../')\n",
    "sys.path.append('../src/')\n",
    "from src.generative import *\n",
    "from src.detection import *\n",
    "from src.utils import set_plotting_params"
   ]
  },
  {
   "cell_type": "markdown",
   "metadata": {},
   "source": [
    "# MNIST - Encoded=True"
   ]
  },
  {
   "cell_type": "code",
   "execution_count": null,
   "metadata": {},
   "outputs": [],
   "source": [
    "mnist = MNIST(root='../data.nosync/').fit()\n",
    "X = mnist.sample()\n",
    "X_val = mnist.sample(10000, S='val')\n",
    "X_test = mnist.sample(10000, S='test')\n",
    "\n",
    "# print shapes\n",
    "print('X:', X.shape)\n",
    "print('X_val:', X_val.shape)\n",
    "print('X_test:', X_test.shape)"
   ]
  },
  {
   "cell_type": "markdown",
   "metadata": {},
   "source": [
    "## Synthetic Model"
   ]
  },
  {
   "cell_type": "code",
   "execution_count": 11,
   "metadata": {},
   "outputs": [],
   "source": [
    "# q = rho * q_copying + (1 - rho) * q_underfit\n",
    "copier = Memorizer(radius=0.05, n_copying=20)\n",
    "underfitter = Memorizer(radius=0.5, n_copying=len(X)) \n",
    "\n",
    "m = 2*len(X) # number of samples to generate\n",
    "k = 10 # number of random projections\n",
    "lambdas = [5, 10, 20] \n",
    "d_proj = [1, 2, 3] # number of dimensions in the random projection\n",
    "rhos = np.round(np.linspace(0, 1, 11), 2) # copying rate in the mixture model"
   ]
  },
  {
   "cell_type": "code",
   "execution_count": 12,
   "metadata": {},
   "outputs": [],
   "source": [
    "# for lam in lambdas: \n",
    "#     results = np.zeros((m, k, len(d_proj), len(rhos))).astype(bool)\n",
    "\n",
    "#     for i, r in enumerate(tqdm(rhos)):\n",
    "#         q = Mixture(rho=r, q1=copier, q2=underfitter).fit(X)\n",
    "#         X1_gen = q.sample(m)\n",
    "#         X2_gen = q.sample(m)\n",
    "#         for j, d in enumerate(d_proj):\n",
    "#             for l in range(k):\n",
    "#                 rp = GaussianRandomProjection(n_components=d).fit(X)\n",
    "#                 dcd = DataCopyingDetector(lmbda=lam)\n",
    "#                 idx = dcd.get_copying_indices(rp.transform(X), rp.transform(X1_gen), rp.transform(X2_gen))\n",
    "#                 results[idx, l, j, i] = True\n",
    "\n",
    "#     # save results\n",
    "#     np.save(f'../doc/MNIST/mixed_model_results_lambda_{lam}.npy', results)"
   ]
  },
  {
   "cell_type": "code",
   "execution_count": null,
   "metadata": {},
   "outputs": [],
   "source": [
    "# load test statistic of meehan et al\n",
    "results_meehan = np.load('../doc/Limitations/C_S_mnist.npy')[:, 0, :].mean(axis=1)\n",
    "results_meehan"
   ]
  },
  {
   "cell_type": "code",
   "execution_count": 19,
   "metadata": {},
   "outputs": [],
   "source": [
    "textwidth = set_plotting_params()\n",
    "line_styles = ['--', '-.', ':']\n",
    "colors = sns.color_palette('colorblind')\n",
    "markers = ['x', '^', 'h', '^', 'v', '>', '<', 'p', '*', 'h']\n",
    "markersize = [5, 4, 3, 2, 1]\n",
    "\n",
    "fig, axs = plt.subplots(1, 3, figsize=(textwidth, 1.5), sharey=True)\n",
    "\n",
    "for i, lam in enumerate(lambdas):\n",
    "    results = np.load(f'../doc/MNIST/mixed_model_results_lambda_{lam}.npy')\n",
    "    maj_votes = (results.mean(axis=1) > 0.5).mean(axis=0)\n",
    "    # plot true copying rate\n",
    "    axs[i].plot(rhos, rhos, label='True cr$_q$', linestyle='-', color='black')\n",
    "    for j, d in enumerate(d_proj):\n",
    "        axs[i].plot(rhos, maj_votes[j],\n",
    "                    label='$d_{\\\\mathrm{proj}}=$' + str(d),\n",
    "                    linestyle=line_styles[j],\n",
    "                    color=colors[j],\n",
    "                    marker=markers[j],\n",
    "                    markersize=markersize[j],\n",
    "                    alpha=0.75,\n",
    "                )\n",
    "    axs[i].axvspan(xmin=0.9, xmax=1, color='lightgray', alpha=0.5)\n",
    "    axs[i].set_xlabel('$\\\\rho$')\n",
    "    axs[i].set_title(f'({chr(97 + i)})' + f' $\\\\lambda={lam}$', loc='center')\n",
    "    axs[i].set_xticks(np.linspace(0, 1, 6))\n",
    "    axs[i].set_yticks(np.linspace(0, 1, 6))\n",
    "\n",
    "\n",
    "handles, labels = axs[0].get_legend_handles_labels()\n",
    "gray_patch = mpatches.Patch(color='lightgray', label='$C_S < -3$')\n",
    "handles.append(gray_patch)\n",
    "labels.append('$C_S < -3$')\n",
    "\n",
    "axs[0].set_ylabel('cr$_q$')\n",
    "plt.legend(handles= handles, labels=labels, loc='upper left', bbox_to_anchor=(1, 1), fontsize=6)\n",
    "plt.tight_layout(pad=0.3)\n",
    "plt.savefig('../doc/MNIST/mixed_model_results.png', dpi=300)\n",
    "plt.close()"
   ]
  },
  {
   "cell_type": "markdown",
   "metadata": {},
   "source": [
    "## KDE\n",
    "\n",
    "n.b. We fit the KDE model in the latent space."
   ]
  },
  {
   "cell_type": "code",
   "execution_count": 3,
   "metadata": {},
   "outputs": [],
   "source": [
    "m = int(1e6) # number of samples to generate\n",
    "k = 10 # number of random projections\n",
    "lambdas = [5, 10, 20]\n",
    "d_proj = [1, 2, 3] # number of dimensions in the random projection\n",
    "n_sigmas = 25 # number of sigmas to test\n",
    "sigmas = np.logspace(-7, -2, n_sigmas)"
   ]
  },
  {
   "cell_type": "code",
   "execution_count": null,
   "metadata": {},
   "outputs": [],
   "source": [
    "# run three sample hypothesis test\n",
    "tst = ThreeSampleDetector(num_regions=50)\n",
    "C_S = np.zeros((50))\n",
    "\n",
    "sigmas_tst = np.logspace(-5, 0, 50)\n",
    "\n",
    "for i, s in enumerate(sigmas_tst):\n",
    "    q = KDE(bandwidth=s).fit(X)\n",
    "    C_S[i] = tst.C_T(q, X, X_val)[0]\n",
    "\n",
    "C_S"
   ]
  },
  {
   "cell_type": "code",
   "execution_count": null,
   "metadata": {},
   "outputs": [],
   "source": [
    "# print first sigma where C_S > -3\n",
    "sigmas_tst[np.argmax(C_S > -3)]"
   ]
  },
  {
   "cell_type": "code",
   "execution_count": 7,
   "metadata": {},
   "outputs": [],
   "source": [
    "# for lam in lambdas:\n",
    "#     print(f'lambda={lam}')\n",
    "#     results = np.zeros((m, k, len(d_proj), n_sigmas)).astype(bool)\n",
    "\n",
    "#     for i, sigma in enumerate(tqdm(sigmas)):\n",
    "#         q = KDE(bandwidth=sigma).fit(X)\n",
    "#         X1_gen = q.sample(m)\n",
    "#         X2_gen = q.sample(m)\n",
    "#         for j, d in enumerate(d_proj):\n",
    "#             for l in range(k):\n",
    "#                 rp = GaussianRandomProjection(n_components=d).fit(X)\n",
    "#                 dcd = DataCopyingDetector(lmbda=lam)\n",
    "#                 idx = dcd.get_copying_indices(rp.transform(X), rp.transform(X1_gen), rp.transform(X2_gen))\n",
    "#                 results[idx, l, j, i] = True\n",
    "\n",
    "\n",
    "#     np.save(f'../doc/MNIST/kde_results_lambda_{lam}.npy', results)"
   ]
  },
  {
   "cell_type": "code",
   "execution_count": 14,
   "metadata": {},
   "outputs": [],
   "source": [
    "### plot results\n",
    "textwidth = set_plotting_params()\n",
    "line_styles = ['--', '-.', ':']\n",
    "colors = sns.color_palette('colorblind')\n",
    "markers = ['x', '^', 'h', '^', 'v', '>', '<', 'p', '*', 'h']\n",
    "markersize = [5, 4, 3, 2, 1]\n",
    "\n",
    "fig, axs = plt.subplots(1, 3, figsize=(textwidth, 1.5), sharey=True)\n",
    "\n",
    "for i, lam in enumerate(lambdas):\n",
    "    results = np.load(f'../doc/MNIST/kde_results_lambda_{lam}.npy')\n",
    "    maj_votes = (results.mean(axis=1) > 0.5).mean(axis=0)\n",
    "    for j, d in enumerate(d_proj):\n",
    "        axs[i].plot(sigmas, maj_votes[j],\n",
    "                    label='$d_{\\\\mathrm{proj}}=$' + str(d),\n",
    "                    linestyle=line_styles[j],\n",
    "                    color=colors[j],\n",
    "                    marker=markers[j],\n",
    "                    markersize=markersize[j],\n",
    "                    alpha=0.75,\n",
    "                )\n",
    "    # get limits of x-axis\n",
    "    x_min = axs[i].get_xlim()[0]\n",
    "    x_max = axs[i].get_xlim()[1]\n",
    "    axs[i].axvspan(xmin=x_min, xmax=0.03, color='lightgray', alpha=0.5)\n",
    "    axs[i].set_xlabel('$\\\\sigma$')\n",
    "    axs[i].set_xscale('log')\n",
    "    axs[i].set_title(f'({chr(97 + i)})' + f' $\\\\lambda={lam}$', loc='center')\n",
    "    axs[i].set_yticks(np.linspace(0, 1, 6))\n",
    "\n",
    "handles, labels = axs[0].get_legend_handles_labels()\n",
    "gray_patch = mpatches.Patch(color='lightgray', label='$C_S < -3$')\n",
    "handles.append(gray_patch)\n",
    "labels.append('$C_S < -3$')\n",
    "\n",
    "axs[0].set_ylabel('cr$_q$')\n",
    "plt.legend(handles= handles, labels=labels, loc='upper left', bbox_to_anchor=(1, 1), fontsize=6)\n",
    "plt.tight_layout(pad=0.3)\n",
    "plt.savefig('../doc/MNIST/kde_results.png', dpi=300)\n",
    "plt.close()"
   ]
  },
  {
   "cell_type": "markdown",
   "metadata": {},
   "source": [
    "## Variational Autoencoder"
   ]
  },
  {
   "cell_type": "code",
   "execution_count": 20,
   "metadata": {},
   "outputs": [
    {
     "data": {
      "text/plain": [
       "array([ 5, 15, 25, 35, 45, 55, 65, 75, 85, 95])"
      ]
     },
     "execution_count": 20,
     "metadata": {},
     "output_type": "execute_result"
    }
   ],
   "source": [
    "m=int(1e5)\n",
    "k=10\n",
    "d_proj = [1, 2, 3] # number of dimensions in the random projection\n",
    "lambdas = [5, 10, 20]\n",
    "d_vals = np.arange(5, 105, 10)\n",
    "n_vaes = len(d_vals)\n",
    "d_vals"
   ]
  },
  {
   "cell_type": "code",
   "execution_count": 16,
   "metadata": {},
   "outputs": [
    {
     "data": {
      "text/plain": [
       "array([ 5.12154263,  5.03817199,  3.50846196,  1.96889438,  2.31325318,\n",
       "        1.47259199,  0.84502629,  0.59759268,  0.63215356,  1.29561579,\n",
       "        0.07566024, -0.0261337 ,  0.03933131, -0.23718584, -0.04410067,\n",
       "       -0.57979037, -0.89997063, -1.05669466, -0.58524483, -0.72079671])"
      ]
     },
     "execution_count": 16,
     "metadata": {},
     "output_type": "execute_result"
    }
   ],
   "source": [
    "# replicate meehan \n",
    "tst = ThreeSampleDetector(num_regions=50)\n",
    "d_vals_tst = np.arange(5, 105, 5)\n",
    "\n",
    "C_S = np.zeros((len(d_vals_tst)))\n",
    "\n",
    "for i, d in enumerate(d_vals_tst):\n",
    "    q = VAE(d=d)\n",
    "    q.fit(X, path=f'../data.nosync/trained_weights/VAE_d{d}.pkl')\n",
    "    C_S[i] = tst.C_T(q, X, X_val)[0]\n",
    "\n",
    "C_S"
   ]
  },
  {
   "cell_type": "code",
   "execution_count": 18,
   "metadata": {},
   "outputs": [
    {
     "data": {
      "text/plain": [
       "60"
      ]
     },
     "execution_count": 18,
     "metadata": {},
     "output_type": "execute_result"
    }
   ],
   "source": [
    "# print first d where C_S > 0\n",
    "d_vals_tst[np.argmax(C_S < 0)]"
   ]
  },
  {
   "cell_type": "code",
   "execution_count": 4,
   "metadata": {},
   "outputs": [],
   "source": [
    "# for lam in lambdas:\n",
    "#     res_vae = np.zeros((m, k, len(d_proj), n_vaes)).astype(bool)\n",
    "\n",
    "#     for i, d in enumerate(tqdm(d_vals)):\n",
    "#         q = VAE(d=d)\n",
    "#         q.fit(X, path=f'../data.nosync/trained_weights/VAE_d{d}.pkl')\n",
    "#         X2 = q.sample(m)\n",
    "#         X3 = q.sample(m)\n",
    "#         for j, d in enumerate(d_proj):\n",
    "#             for l in range(k):\n",
    "#                 rp = GaussianRandomProjection(n_components=d).fit(X)\n",
    "#                 dcd = DataCopyingDetector(lmbda=lam)\n",
    "#                 idx = dcd.get_copying_indices(rp.transform(X), rp.transform(X2), rp.transform(X3))\n",
    "#                 res_vae[idx, l, j, i] = True\n",
    "\n",
    "\n",
    "#     np.save(f'../doc/MNIST/vae_results_lambda_{lam}.npy', res_vae)"
   ]
  },
  {
   "cell_type": "code",
   "execution_count": 21,
   "metadata": {},
   "outputs": [],
   "source": [
    "### plot results\n",
    "textwidth = set_plotting_params()\n",
    "line_styles = ['--', '-.', ':']\n",
    "colors = sns.color_palette('colorblind')\n",
    "markers = ['x', '^', 'h', '^', 'v', '>', '<', 'p', '*', 'h']\n",
    "markersize = [5, 4, 3, 2, 1]\n",
    "\n",
    "fig, axs = plt.subplots(1, 3, figsize=(textwidth, 1.5), sharey=True)\n",
    "\n",
    "for i, lam in enumerate(lambdas):\n",
    "    results = np.load(f'../doc/MNIST/vae_results_lambda_{lam}.npy')\n",
    "    maj_votes = (results.mean(axis=1) > 0.5).mean(axis=0)\n",
    "    for j, d in enumerate(d_proj):\n",
    "        axs[i].plot(d_vals, maj_votes[j],\n",
    "                    label='$d_{\\\\mathrm{proj}}=$' + str(d),\n",
    "                    linestyle=line_styles[j],\n",
    "                    color=colors[j],\n",
    "                    marker=markers[j],\n",
    "                    markersize=markersize[j],\n",
    "                    alpha=0.75,\n",
    "                )\n",
    "    axs[i].axvspan(xmin=60, xmax=100, color='lightgray', alpha=0.5)\n",
    "    axs[i].set_xlabel('$d_{\\\\mathrm{VAE}}$')\n",
    "    axs[i].set_title(f'({chr(97 + i)})' + f' $\\\\lambda={lam}$', loc='center')\n",
    "    axs[i].set_xticks(np.arange(0, 105, 20))\n",
    "    axs[i].set_yticks(np.linspace(0, 1, 6))\n",
    "\n",
    "handles, labels = axs[0].get_legend_handles_labels()\n",
    "gray_patch = mpatches.Patch(color='lightgray', label='$C_S < 0$')\n",
    "handles.append(gray_patch)\n",
    "labels.append('$C_S < 0$')\n",
    "\n",
    "\n",
    "axs[0].set_ylabel('cr$_q$')\n",
    "low_y, _ = axs[0].get_ylim()\n",
    "axs[0].set_ylim(low_y, 1)\n",
    "plt.legend(handles= handles, labels=labels, loc='upper left', bbox_to_anchor=(1, 1), fontsize=6)\n",
    "plt.tight_layout(pad=0.3)\n",
    "plt.savefig('../doc/MNIST/vae_results.png', dpi=300)\n",
    "plt.close()"
   ]
  },
  {
   "cell_type": "code",
   "execution_count": 7,
   "metadata": {},
   "outputs": [],
   "source": [
    "# set random seed\n",
    "np.random.seed(41)\n",
    "\n",
    "d = 5\n",
    "q = VAE(d=d)\n",
    "q.fit(X, path=f'../data.nosync/trained_weights/VAE_d{d}.pkl')\n",
    "X_gen = q.sample(50000)\n",
    "rp = GaussianRandomProjection(n_components=2).fit(X)\n",
    "X_proj = rp.transform(X)\n",
    "X_gen_proj = rp.transform(X_gen)\n",
    "\n",
    "\n",
    "lambda_value = 2.5  # Set the value of lambda\n",
    "x1 = np.linspace(0, 1, 1000)  # Range for Uniform(0, 1)\n",
    "x2 = np.linspace(0, 1/lambda_value, 1000)  # Range for Uniform(0, 1/lambda)\n",
    "\n",
    "textwidth = set_plotting_params()\n",
    "colors = sns.color_palette('colorblind')\n",
    "\n",
    "fig, axs = plt.subplots(1, 2, figsize=(textwidth, 2.5))\n",
    "axs[1].scatter(X_proj[:, 0], X_proj[:, 1], label='Train', s=5, alpha=0.5, color=colors[0], marker='o')\n",
    "axs[1].scatter(X_gen_proj[:, 0], X_gen_proj[:, 1], label='Generated', s=5, alpha=0.5, color=colors[1], marker='x')\n",
    "axs[1].set_xticks([])\n",
    "axs[1].set_yticks([])\n",
    "axs[1].legend(fontsize='small')\n",
    "axs[1].set_title('(b) 2-D Random Projection of VAE Samples', loc='center')\n",
    "\n",
    "axs[0].fill_between(x1, 1, alpha=0.7, label=r'Uniform(0, 1)', color=colors[0])\n",
    "axs[0].fill_between(x2, lambda_value, alpha=0.7, label=r'Uniform(0, $\\frac{1}{\\lambda}$)', color=colors[1])\n",
    "axs[0].set_xticks([0, 1/lambda_value, 1], [r'0', r'$\\frac{1}{\\lambda}$', r'1'])\n",
    "axs[0].set_yticks([0, 1, lambda_value], [r'0', r'1', r'$\\lambda$'])\n",
    "axs[0].set_xlabel('$x$')\n",
    "axs[0].set_ylabel('$p(x)$')\n",
    "axs[0].legend()\n",
    "axs[0].set_title('(a) Underfitted Uniform Distribution', loc='center')\n",
    "\n",
    "axs[0].grid(True)\n",
    "plt.tight_layout(pad=0.5)\n",
    "plt.savefig('../doc/Limitations/underfitted_uniform.png', dpi=300)\n",
    "plt.close()"
   ]
  },
  {
   "cell_type": "code",
   "execution_count": null,
   "metadata": {},
   "outputs": [],
   "source": [
    "# produce single plot for 2-D random projection\n",
    "np.random.seed(41)\n",
    "X_val_proj = rp.transform(X_val)\n",
    "textwidth = set_plotting_params()\n",
    "colors = sns.color_palette('colorblind')\n",
    "\n",
    "fig, ax = plt.subplots(1, 1, figsize=(0.7*textwidth, 0.5*textwidth))\n",
    "ax.scatter(X_proj[:, 0], X_proj[:, 1], label='Train', s=0.5, alpha=0.3, color=colors[0], marker='o')\n",
    "ax.scatter(X_gen_proj[:, 0], X_gen_proj[:, 1], label='Generated', s=0.5, alpha=0.3, color=colors[1], marker='x')\n",
    "ax.scatter(X_val_proj[:, 0], X_val_proj[:, 1], label='Validation', s=0.5, alpha=0.3, color=colors[2], marker='s')\n",
    "ax.set_xticks([])\n",
    "ax.set_yticks([])\n",
    "ax.legend(fontsize='large')\n",
    "ax.set_title('2-D Random Projection of VAE Samples', loc='center')\n",
    "\n",
    "plt.tight_layout(pad=0.5)\n",
    "plt.savefig('../doc/Presentation/VAE.png', dpi=300)\n",
    "plt.close()"
   ]
  },
  {
   "cell_type": "code",
   "execution_count": null,
   "metadata": {},
   "outputs": [],
   "source": [
    "X_NN = NearestNeighbors(n_neighbors=1).fit(X)\n",
    "LXgen, _ = X_NN.kneighbors(X=X_gen, n_neighbors=1)\n",
    "LXtest, _ = X_NN.kneighbors(X=X_val, n_neighbors=1)\n",
    "\n",
    "LXgen = LXgen.flatten()\n",
    "LXtest = LXtest.flatten()\n",
    "\n",
    "# plot histogram of nearest neighbor distances\n",
    "textwidth = set_plotting_params()\n",
    "colors = sns.color_palette('colorblind')\n",
    "fig, ax = plt.subplots(1, 1, figsize=(textwidth, 0.5*textwidth))\n",
    "ax.hist(LXgen, bins=50, color=colors[1], alpha=0.5, label='Generated', density=True)\n",
    "ax.hist(LXtest, bins=50, color=colors[2], alpha=0.5, label='Validation', density=True)\n",
    "ax.set_xlabel('Nearest Neighbor Distance')\n",
    "ax.set_ylabel('Count')\n",
    "ax.legend()\n",
    "plt.tight_layout(pad=0.5)\n",
    "plt.savefig('../doc/Presentation/NN_distance.png', dpi=300)"
   ]
  },
  {
   "cell_type": "markdown",
   "metadata": {},
   "source": [
    "# MNIST - Encoded=False"
   ]
  },
  {
   "cell_type": "code",
   "execution_count": null,
   "metadata": {},
   "outputs": [],
   "source": [
    "mnist = MNIST(root='../data.nosync/').fit()\n",
    "X = mnist.sample(encoded=False).detach().numpy().reshape(-1, 28*28)\n",
    "X_val = mnist.sample(10000, S='val', encoded=False).detach().numpy().reshape(-1, 28*28)\n",
    "X_test = mnist.sample(10000, S='test', encoded=False).detach().numpy().reshape(-1, 28*28)\n",
    "\n",
    "# print shapes\n",
    "print('X:', X.shape)\n",
    "print('X_val:', X_val.shape)\n",
    "print('X_test:', X_test.shape)\n",
    "\n",
    "\n",
    "# plot 10 images\n",
    "fig, axs = plt.subplots(1, 10, figsize=(20, 2))\n",
    "for i in range(10):\n",
    "    axs[i].imshow(X[i].reshape(28, 28), cmap='gray')\n",
    "    axs[i].axis('off')"
   ]
  },
  {
   "cell_type": "markdown",
   "metadata": {},
   "source": [
    "## Synthetic Model"
   ]
  },
  {
   "cell_type": "code",
   "execution_count": null,
   "metadata": {},
   "outputs": [],
   "source": [
    "# q = rho * q_copying + (1 - rho) * q_underfit\n",
    "copier = Memorizer()\n",
    "underfitter = Memorizer(radius=0.5, n_copying=len(X))\n",
    "q = Mixture(rho=0.2, q1=copier, q2=underfitter).fit(X)\n",
    "\n",
    "# plot a 10 samples drawn from q\n",
    "fig, axs = plt.subplots(1, 10, figsize=(20, 2))\n",
    "samples = q.sample(10)\n",
    "for i in range(10):\n",
    "    axs[i].imshow(samples[i].reshape(28, 28), cmap='gray')\n",
    "    axs[i].axis('off')"
   ]
  },
  {
   "cell_type": "code",
   "execution_count": null,
   "metadata": {},
   "outputs": [],
   "source": [
    "# meehans test\n",
    "tst = ThreeSampleDetector(num_regions=50)\n",
    "tst.C_T(Q=q, X_train=X, X_test=X_val)"
   ]
  },
  {
   "cell_type": "code",
   "execution_count": null,
   "metadata": {},
   "outputs": [],
   "source": [
    "X2 = q.sample(50000)\n",
    "X3 = q.sample(50000)\n",
    "print('X2:', X2.shape)\n",
    "print('X3:', X3.shape)\n",
    "k = 10\n",
    "results = np.zeros((len(X3), k)).astype(bool)\n",
    "\n",
    "for i in tqdm(range(k)):\n",
    "    rp = GaussianRandomProjection(n_components=3).fit(X) # draw random projection\n",
    "    dcd = DataCopyingDetector()\n",
    "    idx = dcd.get_copying_indices(rp.transform(X), rp.transform(X2), rp.transform(X3))\n",
    "    results[idx, i] = True"
   ]
  },
  {
   "cell_type": "code",
   "execution_count": null,
   "metadata": {},
   "outputs": [],
   "source": [
    "print(f\"Majortiy Voting: {(results.mean(axis=1) > 0.5).mean()}\")\n",
    "print(f\"Mean Aggregation: {results.mean(axis=1).mean()}\")\n",
    "print(f\"Set Aggregation: {(results.any(axis=1)).mean()}\")"
   ]
  },
  {
   "cell_type": "code",
   "execution_count": null,
   "metadata": {},
   "outputs": [],
   "source": []
  }
 ],
 "metadata": {
  "kernelspec": {
   "display_name": "masterthesis",
   "language": "python",
   "name": "python3"
  },
  "language_info": {
   "codemirror_mode": {
    "name": "ipython",
    "version": 3
   },
   "file_extension": ".py",
   "mimetype": "text/x-python",
   "name": "python",
   "nbconvert_exporter": "python",
   "pygments_lexer": "ipython3",
   "version": "3.12.3"
  }
 },
 "nbformat": 4,
 "nbformat_minor": 2
}
