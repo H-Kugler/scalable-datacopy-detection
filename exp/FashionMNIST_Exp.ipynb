{
 "cells": [
  {
   "cell_type": "code",
   "execution_count": 1,
   "metadata": {},
   "outputs": [],
   "source": [
    "import numpy as np\n",
    "import pandas as pd\n",
    "import matplotlib.pyplot as plt\n",
    "import matplotlib.patches as mpatches\n",
    "import seaborn as sns\n",
    "from tqdm import tqdm\n",
    "from sklearn.random_projection import GaussianRandomProjection\n",
    "from sklearn.decomposition import PCA\n",
    "import sys\n",
    "sys.path.append('../')\n",
    "sys.path.append('../src/')\n",
    "\n",
    "from src.generative import *\n",
    "from src.detection import *\n",
    "from src.utils import set_plotting_params"
   ]
  },
  {
   "cell_type": "code",
   "execution_count": 2,
   "metadata": {},
   "outputs": [
    {
     "name": "stdout",
     "output_type": "stream",
     "text": [
      "X: (50000, 784)\n",
      "X_val: (10000, 784)\n",
      "X_test: (10000, 784)\n",
      "Explained variance: 0.9119189\n"
     ]
    }
   ],
   "source": [
    "fmnist = FashionMNIST(root='../data.nosync/').fit()\n",
    "X = fmnist.sample().detach().numpy().reshape(-1, 28*28)\n",
    "X_val = fmnist.sample(10000, S='val').detach().numpy().reshape(-1, 28*28)\n",
    "X_test = fmnist.sample(10000, S='test').detach().numpy().reshape(-1, 28*28)\n",
    "\n",
    "# print shapes\n",
    "print('X:', X.shape)\n",
    "print('X_val:', X_val.shape)\n",
    "print('X_test:', X_test.shape)\n",
    "\n",
    "# perform PCA\n",
    "pca = PCA(n_components=100)\n",
    "pca.fit(X)\n",
    "X_pca = pca.transform(X)\n",
    "X_val_pca = pca.transform(X_val)\n",
    "X_test_pca = pca.transform(X_test)\n",
    "\n",
    "# Variance explained\n",
    "print('Explained variance:', pca.explained_variance_ratio_.sum())"
   ]
  },
  {
   "cell_type": "code",
   "execution_count": 3,
   "metadata": {},
   "outputs": [
    {
     "name": "stdout",
     "output_type": "stream",
     "text": [
      "rho=0.0\n",
      "(4.912485212684187, -10.211927453639404)\n",
      "rho=0.1\n",
      "(3.1164297666070593, -10.772758023329494)\n",
      "rho=0.2\n",
      "(1.4992669903211666, -13.432220680598201)\n",
      "rho=0.3\n",
      "(-0.12847310019867045, -14.586123442938943)\n",
      "rho=0.4\n",
      "(-1.690963712267294, -18.96320367857377)\n",
      "rho=0.5\n",
      "(-2.943443108138642, -19.695547473638214)\n",
      "rho=0.6\n",
      "(-3.293582746253368, -19.005292495717146)\n",
      "rho=0.7\n",
      "(-4.267022236156733, -21.138924365070373)\n",
      "rho=0.8\n",
      "(-5.84158762769791, -23.201251149852844)\n",
      "rho=0.9\n",
      "(-6.7623887166598395, -26.717591812124457)\n",
      "rho=1.0\n",
      "(-22.66462401670645, -29.164414622741088)\n"
     ]
    }
   ],
   "source": [
    "# perform meehan et al. method\n",
    "tst = ThreeSampleDetector(num_regions=50)\n",
    "rhos = np.round(np.linspace(0, 1, 11), 2) # copying rate in the mixture model\n",
    "copier = Memorizer(radius=0.1, n_copying=20) \n",
    "underfitter = Memorizer(radius=5.5, n_copying=len(X_pca)) \n",
    "\n",
    "for r in rhos:\n",
    "    print(f'rho={r}')\n",
    "    q = Mixture(rho=r, q1=copier, q2=underfitter).fit(X_pca)\n",
    "    stat = tst.C_T(q, X_pca, X_test_pca)\n",
    "    print(stat)"
   ]
  },
  {
   "cell_type": "markdown",
   "metadata": {},
   "source": [
    "## Synthetic Model"
   ]
  },
  {
   "cell_type": "code",
   "execution_count": 4,
   "metadata": {},
   "outputs": [],
   "source": [
    "# q = rho * q_copying + (1 - rho) * q_underfit\n",
    "copier = Memorizer(radius=0.1, n_copying=20) \n",
    "underfitter = Memorizer(radius=5.5, n_copying=len(X_pca)) \n",
    "\n",
    "m = 2*len(X) # number of samples to generate\n",
    "k = 10 # number of random projections\n",
    "lambdas = [5, 10, 20]\n",
    "d_proj = [1, 2, 3] # number of dimensions in the random projection\n",
    "rhos = np.round(np.linspace(0, 1, 11), 2) # copying rate in the mixture model"
   ]
  },
  {
   "cell_type": "code",
   "execution_count": 5,
   "metadata": {},
   "outputs": [],
   "source": [
    "# for lam in lambdas: \n",
    "#     results = np.zeros((m, k, len(d_proj), len(rhos))).astype(bool)\n",
    "\n",
    "#     for i, r in enumerate(tqdm(rhos)):\n",
    "#         q = Mixture(rho=r, q1=copier, q2=underfitter).fit(X_pca)\n",
    "#         X1_gen = q.sample(m)\n",
    "#         X2_gen = q.sample(m)\n",
    "#         for j, d in enumerate(d_proj):\n",
    "#             for l in range(k):\n",
    "#                 rp = GaussianRandomProjection(n_components=d).fit(X_pca)\n",
    "#                 dcd = DataCopyingDetector(lmbda=lam)\n",
    "#                 idx = dcd.get_copying_indices(rp.transform(X_pca), rp.transform(X1_gen), rp.transform(X2_gen))\n",
    "#                 results[idx, l, j, i] = True\n",
    "\n",
    "#     # save results\n",
    "#     np.save(f'../doc/FashionMNIST/mixed_model_results_lambda_{lam}.npy', results)"
   ]
  },
  {
   "cell_type": "code",
   "execution_count": 6,
   "metadata": {},
   "outputs": [],
   "source": [
    "textwidth = set_plotting_params()\n",
    "line_styles = ['--', '-.', ':']\n",
    "colors = sns.color_palette('colorblind')\n",
    "markers = ['x', '^', 'h', '^', 'v', '>', '<', 'p', '*', 'h']\n",
    "markersize = [5, 4, 3, 2, 1]\n",
    "\n",
    "fig, axs = plt.subplots(1, 3, figsize=(textwidth, 1.5), sharey=True)\n",
    "\n",
    "for i, lam in enumerate(lambdas):\n",
    "    results = np.load(f'../doc/FashionMNIST/mixed_model_results_lambda_{lam}.npy')\n",
    "    maj_votes = (results.mean(axis=1) > 0.5).mean(axis=0)\n",
    "    # plot true copying rate\n",
    "    axs[i].plot(rhos, rhos, label='True cr$_q$', linestyle='-', color='black')\n",
    "    for j, d in enumerate(d_proj):\n",
    "        axs[i].plot(rhos, maj_votes[j],\n",
    "                    label='$d_{\\\\mathrm{proj}}=$' + str(d),\n",
    "                    linestyle=line_styles[j],\n",
    "                    color=colors[j],\n",
    "                    marker=markers[j],\n",
    "                    markersize=markersize[j],\n",
    "                    alpha=0.75,\n",
    "                )\n",
    "        axs[i].set_xlabel('$\\\\rho$')\n",
    "        axs[i].set_title(f'({chr(97 + i)})' + f' $\\\\lambda={lam}$', loc='center')\n",
    "    axs[i].axvspan(xmin=0.7, xmax=1, color='#FFCCCB', alpha=0.5)\n",
    "    axs[i].set_xticks(np.linspace(0, 1, 6))\n",
    "    axs[i].set_yticks(np.linspace(0, 1, 6))\n",
    "\n",
    "handles, labels = axs[0].get_legend_handles_labels()\n",
    "gray_patch = mpatches.Patch(color='#FFCCCB', alpha=0.5, label='$C_S < -3$')\n",
    "handles.append(gray_patch)\n",
    "labels.append('$C_S < -3$')\n",
    "\n",
    "axs[0].set_ylabel('cr$_q$')\n",
    "plt.legend(handles, labels, loc='upper left', bbox_to_anchor=(1, 1), fontsize=6)\n",
    "plt.tight_layout(pad=0.3)\n",
    "plt.savefig('../doc/FashionMNIST/mixed_model_results.png', dpi=300)\n",
    "plt.close()"
   ]
  },
  {
   "cell_type": "code",
   "execution_count": null,
   "metadata": {},
   "outputs": [],
   "source": []
  }
 ],
 "metadata": {
  "kernelspec": {
   "display_name": "masterthesis",
   "language": "python",
   "name": "python3"
  },
  "language_info": {
   "codemirror_mode": {
    "name": "ipython",
    "version": 3
   },
   "file_extension": ".py",
   "mimetype": "text/x-python",
   "name": "python",
   "nbconvert_exporter": "python",
   "pygments_lexer": "ipython3",
   "version": "3.12.3"
  }
 },
 "nbformat": 4,
 "nbformat_minor": 2
}
